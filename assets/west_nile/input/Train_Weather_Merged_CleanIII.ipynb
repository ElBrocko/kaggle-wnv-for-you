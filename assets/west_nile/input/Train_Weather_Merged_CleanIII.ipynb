{
 "cells": [
  {
   "cell_type": "code",
   "execution_count": 1,
   "metadata": {
    "collapsed": false
   },
   "outputs": [],
   "source": [
    "import pandas as pd\n",
    "import numpy as np\n",
    "import seaborn as sns\n",
    "import matplotlib as mpl\n",
    "%matplotlib inline\n",
    "import matplotlib.pyplot as plt\n"
   ]
  },
  {
   "cell_type": "code",
   "execution_count": 2,
   "metadata": {
    "collapsed": false
   },
   "outputs": [],
   "source": [
    "train = pd.read_csv('train.csv')\n",
    "weather = pd.read_csv('weather.csv')\n",
    "train_weather = pd.merge(weather, train, how= \"inner\", left_on='Date', right_on='Date')\n"
   ]
  },
  {
   "cell_type": "code",
   "execution_count": 3,
   "metadata": {
    "collapsed": false
   },
   "outputs": [
    {
     "data": {
      "text/plain": [
       "Index([u'Station', u'Date', u'Tmax', u'Tmin', u'Tavg', u'Depart', u'DewPoint',\n",
       "       u'WetBulb', u'Heat', u'Cool', u'Sunrise', u'Sunset', u'CodeSum',\n",
       "       u'Depth', u'Water1', u'SnowFall', u'PrecipTotal', u'StnPressure',\n",
       "       u'SeaLevel', u'ResultSpeed', u'ResultDir', u'AvgSpeed', u'Address',\n",
       "       u'Species', u'Block', u'Street', u'Trap', u'AddressNumberAndStreet',\n",
       "       u'Latitude', u'Longitude', u'AddressAccuracy', u'NumMosquitos',\n",
       "       u'WnvPresent'],\n",
       "      dtype='object')"
      ]
     },
     "execution_count": 3,
     "metadata": {},
     "output_type": "execute_result"
    }
   ],
   "source": [
    "train_weather.columns"
   ]
  },
  {
   "cell_type": "code",
   "execution_count": 4,
   "metadata": {
    "collapsed": false
   },
   "outputs": [],
   "source": [
    "train_weather = train_weather.applymap(lambda x: np.nan if x == 'M' else x)\n",
    "\n",
    "train_weather['PrecipTotal'].replace(regex=True,inplace=True,to_replace=r'T',value=0.005)"
   ]
  },
  {
   "cell_type": "code",
   "execution_count": 5,
   "metadata": {
    "collapsed": false
   },
   "outputs": [],
   "source": [
    "train_weather.Tavg.fillna(method='pad', inplace=True)\n",
    "\n",
    "train_weather.Tavg.fillna(method='pad', inplace=True)\n",
    "\n",
    "train_weather.DewPoint.fillna(method='pad', inplace=True)\n",
    "\n",
    "train_weather.WetBulb.fillna(method='pad', inplace=True)\n",
    "\n",
    "train_weather.Heat.fillna(method='pad', inplace=True)\n",
    "\n",
    "train_weather.Cool.fillna(method='pad', inplace=True)\n",
    "\n",
    "train_weather.PrecipTotal.fillna(method='pad', inplace=True)\n",
    "\n",
    "train_weather.StnPressure.fillna(method='pad', inplace=True)\n",
    "\n",
    "train_weather.SeaLevel.fillna(method='pad', inplace=True)\n",
    "\n",
    "train_weather.AvgSpeed.fillna(method='pad', inplace=True)\n"
   ]
  },
  {
   "cell_type": "code",
   "execution_count": 36,
   "metadata": {
    "collapsed": false
   },
   "outputs": [],
   "source": [
    "train_weather.drop([\"Depth\", \"Water1\", \"SnowFall\",'Depart', 'CodeSum', 'Sunset', 'Sunrise', 'WetBulb','ResultSpeed','SeaLevel'], inplace=True, axis=1)"
   ]
  },
  {
   "cell_type": "code",
   "execution_count": 6,
   "metadata": {
    "collapsed": false
   },
   "outputs": [],
   "source": [
    "train_weather['Heat'] = [float(x) for x in train_weather.Heat]\n",
    "\n",
    "train_weather['Cool'] = [float(x) for x in train_weather.Cool]\n",
    "\n",
    "train_weather['StnPressure'] = [float(x) for x in train_weather.StnPressure]\n",
    "\n",
    "train_weather['AvgSpeed'] = [float(x) for x in train_weather.AvgSpeed]\n",
    "\n",
    "train_weather['PrecipTotal'] = [float(x) for x in train_weather.PrecipTotal]\n"
   ]
  },
  {
   "cell_type": "code",
   "execution_count": 7,
   "metadata": {
    "collapsed": false
   },
   "outputs": [
    {
     "data": {
      "text/plain": [
       "Station                       0\n",
       "Date                          0\n",
       "Tmax                          0\n",
       "Tmin                          0\n",
       "Tavg                          0\n",
       "Depart                    10506\n",
       "DewPoint                      0\n",
       "WetBulb                       0\n",
       "Heat                          0\n",
       "Cool                          0\n",
       "Sunrise                       0\n",
       "Sunset                        0\n",
       "CodeSum                       0\n",
       "Depth                     10506\n",
       "Water1                    21012\n",
       "SnowFall                  10506\n",
       "PrecipTotal                   0\n",
       "StnPressure                   0\n",
       "SeaLevel                      0\n",
       "ResultSpeed                   0\n",
       "ResultDir                     0\n",
       "AvgSpeed                      0\n",
       "Address                       0\n",
       "Species                       0\n",
       "Block                         0\n",
       "Street                        0\n",
       "Trap                          0\n",
       "AddressNumberAndStreet        0\n",
       "Latitude                      0\n",
       "Longitude                     0\n",
       "AddressAccuracy               0\n",
       "NumMosquitos                  0\n",
       "WnvPresent                    0\n",
       "dtype: int64"
      ]
     },
     "execution_count": 7,
     "metadata": {},
     "output_type": "execute_result"
    }
   ],
   "source": [
    "train_weather.isnull().sum()"
   ]
  },
  {
   "cell_type": "code",
   "execution_count": 39,
   "metadata": {
    "collapsed": false
   },
   "outputs": [
    {
     "data": {
      "text/plain": [
       "Station                     int64\n",
       "Date                       object\n",
       "Tmax                        int64\n",
       "Tmin                        int64\n",
       "Tavg                       object\n",
       "DewPoint                    int64\n",
       "Heat                      float64\n",
       "Cool                      float64\n",
       "PrecipTotal               float64\n",
       "StnPressure               float64\n",
       "ResultDir                   int64\n",
       "AvgSpeed                  float64\n",
       "Address                    object\n",
       "Species                    object\n",
       "Block                       int64\n",
       "Street                     object\n",
       "Trap                       object\n",
       "AddressNumberAndStreet     object\n",
       "Latitude                  float64\n",
       "Longitude                 float64\n",
       "AddressAccuracy             int64\n",
       "NumMosquitos                int64\n",
       "WnvPresent                  int64\n",
       "dtype: object"
      ]
     },
     "execution_count": 39,
     "metadata": {},
     "output_type": "execute_result"
    }
   ],
   "source": [
    "train_weather.dtypes"
   ]
  },
  {
   "cell_type": "code",
   "execution_count": 40,
   "metadata": {
    "collapsed": false,
    "scrolled": false
   },
   "outputs": [
    {
     "data": {
      "text/plain": [
       "<matplotlib.axes._subplots.AxesSubplot at 0x1111123d0>"
      ]
     },
     "execution_count": 40,
     "metadata": {},
     "output_type": "execute_result"
    },
    {
     "data": {
      "image/png": "[encoded data removed]",
      "text/plain": [
       "<matplotlib.figure.Figure at 0x110e86410>"
      ]
     },
     "metadata": {},
     "output_type": "display_data"
    }
   ],
   "source": [
    "sns.set()\n",
    "sns.set_context(\"paper\")\n",
    "plt.figure(figsize=(18, 18))\n",
    "sns.heatmap(train_weather.corr(), cmap=\"RdBu\")"
   ]
  },
  {
   "cell_type": "code",
   "execution_count": 29,
   "metadata": {
    "collapsed": false
   },
   "outputs": [],
   "source": [
    "train_weather.to_csv('Clean_Merge_Train_WeatherIII.csv', index=False)"
   ]
  },
  {
   "cell_type": "code",
   "execution_count": 8,
   "metadata": {
    "collapsed": false
   },
   "outputs": [],
   "source": [
    "train_weather.to_csv('Dirty_Merge_Train_Weather.csv', index=False)"
   ]
  }
 ],
 "metadata": {
  "kernelspec": {
   "display_name": "Python 2",
   "language": "python",
   "name": "python2"
  },
  "language_info": {
   "codemirror_mode": {
    "name": "ipython",
    "version": 2
   },
   "file_extension": ".py",
   "mimetype": "text/x-python",
   "name": "python",
   "nbconvert_exporter": "python",
   "pygments_lexer": "ipython2",
   "version": "2.7.13"
  }
 },
 "nbformat": 4,
 "nbformat_minor": 2
}
