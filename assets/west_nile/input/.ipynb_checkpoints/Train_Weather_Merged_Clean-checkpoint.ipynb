{
 "cells": [
  {
   "cell_type": "code",
   "execution_count": 282,
   "metadata": {
    "collapsed": false
   },
   "outputs": [],
   "source": [
    "import pandas as pd\n",
    "import numpy as np\n",
    "import seaborn as sns\n",
    "import matplotlib as mpl\n",
    "%matplotlib inline\n",
    "import matplotlib.pyplot as plt\n"
   ]
  },
  {
   "cell_type": "code",
   "execution_count": 283,
   "metadata": {
    "collapsed": false
   },
   "outputs": [],
   "source": [
    "train = pd.read_csv('train.csv')\n",
    "weather = pd.read_csv('weather.csv')\n",
    "train_weather = pd.merge(weather, train, how= \"inner\", left_on='Date', right_on='Date')\n"
   ]
  },
  {
   "cell_type": "code",
   "execution_count": 284,
   "metadata": {
    "collapsed": false
   },
   "outputs": [
    {
     "data": {
      "text/plain": [
       "Index([u'Station', u'Date', u'Tmax', u'Tmin', u'Tavg', u'Depart', u'DewPoint',\n",
       "       u'WetBulb', u'Heat', u'Cool', u'Sunrise', u'Sunset', u'CodeSum',\n",
       "       u'Depth', u'Water1', u'SnowFall', u'PrecipTotal', u'StnPressure',\n",
       "       u'SeaLevel', u'ResultSpeed', u'ResultDir', u'AvgSpeed', u'Address',\n",
       "       u'Species', u'Block', u'Street', u'Trap', u'AddressNumberAndStreet',\n",
       "       u'Latitude', u'Longitude', u'AddressAccuracy', u'NumMosquitos',\n",
       "       u'WnvPresent'],\n",
       "      dtype='object')"
      ]
     },
     "execution_count": 284,
     "metadata": {},
     "output_type": "execute_result"
    }
   ],
   "source": [
    "train_weather.columns"
   ]
  },
  {
   "cell_type": "code",
   "execution_count": 285,
   "metadata": {
    "collapsed": false
   },
   "outputs": [],
   "source": [
    "train_weather = train_weather.applymap(lambda x: np.nan if x == 'M' else x)\n",
    "\n",
    "train_weather['PrecipTotal'].replace(regex=True,inplace=True,to_replace=r'T',value=0.005)"
   ]
  },
  {
   "cell_type": "code",
   "execution_count": 286,
   "metadata": {
    "collapsed": false
   },
   "outputs": [],
   "source": [
    "train_weather.Tavg.fillna(method='pad', inplace=True)\n",
    "\n",
    "train_weather.Tavg.fillna(method='pad', inplace=True)\n",
    "\n",
    "train_weather.DewPoint.fillna(method='pad', inplace=True)\n",
    "\n",
    "train_weather.WetBulb.fillna(method='pad', inplace=True)\n",
    "\n",
    "train_weather.Heat.fillna(method='pad', inplace=True)\n",
    "\n",
    "train_weather.Cool.fillna(method='pad', inplace=True)\n",
    "\n",
    "train_weather.PrecipTotal.fillna(method='pad', inplace=True)\n",
    "\n",
    "train_weather.StnPressure.fillna(method='pad', inplace=True)\n",
    "\n",
    "train_weather.SeaLevel.fillna(method='pad', inplace=True)\n",
    "\n",
    "train_weather.AvgSpeed.fillna(method='pad', inplace=True)\n"
   ]
  },
  {
   "cell_type": "code",
   "execution_count": 287,
   "metadata": {
    "collapsed": false
   },
   "outputs": [],
   "source": [
    "train_weather.drop([\"Depth\", \"Water1\", \"SnowFall\",'Depart'], inplace=True, axis=1)"
   ]
  },
  {
   "cell_type": "code",
   "execution_count": 288,
   "metadata": {
    "collapsed": true
   },
   "outputs": [],
   "source": [
    "weather_types = ['FC','TS','GR','RA','DZ',\n",
    "                 'SN','SG','GS','PL','IC',\n",
    "                 'FG','BR','UP','HZ','FU',\n",
    "                 'VA','DU','DS','PO','SA',\n",
    "                 'SS','PY','SQ','DR','SH',\n",
    "                 'FZ','MI','PR','BC','BL','VC']\n",
    "\n",
    "\n",
    "def codesum_vars():\n",
    "    for i in weather_types:\n",
    "        train_weather[i] = train_weather['CodeSum'].str.contains(i,regex=True).astype(int)\n",
    "codesum_vars()"
   ]
  },
  {
   "cell_type": "code",
   "execution_count": 289,
   "metadata": {
    "collapsed": false
   },
   "outputs": [],
   "source": [
    "train_weather['WetBulb'] = [float(x) for x in train_weather.WetBulb]\n",
    "\n",
    "train_weather['Heat'] = [float(x) for x in train_weather.Heat]\n",
    "\n",
    "train_weather['Cool'] = [float(x) for x in train_weather.Cool]\n",
    "\n",
    "train_weather['StnPressure'] = [float(x) for x in train_weather.StnPressure]\n",
    "\n",
    "train_weather['SeaLevel'] = [float(x) for x in train_weather.SeaLevel]\n",
    "\n",
    "train_weather['AvgSpeed'] = [float(x) for x in train_weather.AvgSpeed]\n",
    "\n",
    "train_weather['PrecipTotal'] = [float(x) for x in train_weather.PrecipTotal]\n"
   ]
  },
  {
   "cell_type": "code",
   "execution_count": 290,
   "metadata": {
    "collapsed": false
   },
   "outputs": [
    {
     "data": {
      "text/plain": [
       "Station                   0\n",
       "Date                      0\n",
       "Tmax                      0\n",
       "Tmin                      0\n",
       "Tavg                      0\n",
       "DewPoint                  0\n",
       "WetBulb                   0\n",
       "Heat                      0\n",
       "Cool                      0\n",
       "Sunrise                   0\n",
       "Sunset                    0\n",
       "CodeSum                   0\n",
       "PrecipTotal               0\n",
       "StnPressure               0\n",
       "SeaLevel                  0\n",
       "ResultSpeed               0\n",
       "ResultDir                 0\n",
       "AvgSpeed                  0\n",
       "Address                   0\n",
       "Species                   0\n",
       "Block                     0\n",
       "Street                    0\n",
       "Trap                      0\n",
       "AddressNumberAndStreet    0\n",
       "Latitude                  0\n",
       "Longitude                 0\n",
       "AddressAccuracy           0\n",
       "NumMosquitos              0\n",
       "WnvPresent                0\n",
       "FC                        0\n",
       "TS                        0\n",
       "GR                        0\n",
       "RA                        0\n",
       "DZ                        0\n",
       "SN                        0\n",
       "SG                        0\n",
       "GS                        0\n",
       "PL                        0\n",
       "IC                        0\n",
       "FG                        0\n",
       "BR                        0\n",
       "UP                        0\n",
       "HZ                        0\n",
       "FU                        0\n",
       "VA                        0\n",
       "DU                        0\n",
       "DS                        0\n",
       "PO                        0\n",
       "SA                        0\n",
       "SS                        0\n",
       "PY                        0\n",
       "SQ                        0\n",
       "DR                        0\n",
       "SH                        0\n",
       "FZ                        0\n",
       "MI                        0\n",
       "PR                        0\n",
       "BC                        0\n",
       "BL                        0\n",
       "VC                        0\n",
       "dtype: int64"
      ]
     },
     "execution_count": 290,
     "metadata": {},
     "output_type": "execute_result"
    }
   ],
   "source": [
    "train_weather.isnull().sum()"
   ]
  },
  {
   "cell_type": "code",
   "execution_count": 291,
   "metadata": {
    "collapsed": false
   },
   "outputs": [
    {
     "data": {
      "text/plain": [
       "Station                     int64\n",
       "Date                       object\n",
       "Tmax                        int64\n",
       "Tmin                        int64\n",
       "Tavg                       object\n",
       "DewPoint                    int64\n",
       "WetBulb                   float64\n",
       "Heat                      float64\n",
       "Cool                      float64\n",
       "Sunrise                    object\n",
       "Sunset                     object\n",
       "CodeSum                    object\n",
       "PrecipTotal               float64\n",
       "StnPressure               float64\n",
       "SeaLevel                  float64\n",
       "ResultSpeed               float64\n",
       "ResultDir                   int64\n",
       "AvgSpeed                  float64\n",
       "Address                    object\n",
       "Species                    object\n",
       "Block                       int64\n",
       "Street                     object\n",
       "Trap                       object\n",
       "AddressNumberAndStreet     object\n",
       "Latitude                  float64\n",
       "Longitude                 float64\n",
       "AddressAccuracy             int64\n",
       "NumMosquitos                int64\n",
       "WnvPresent                  int64\n",
       "FC                          int64\n",
       "TS                          int64\n",
       "GR                          int64\n",
       "RA                          int64\n",
       "DZ                          int64\n",
       "SN                          int64\n",
       "SG                          int64\n",
       "GS                          int64\n",
       "PL                          int64\n",
       "IC                          int64\n",
       "FG                          int64\n",
       "BR                          int64\n",
       "UP                          int64\n",
       "HZ                          int64\n",
       "FU                          int64\n",
       "VA                          int64\n",
       "DU                          int64\n",
       "DS                          int64\n",
       "PO                          int64\n",
       "SA                          int64\n",
       "SS                          int64\n",
       "PY                          int64\n",
       "SQ                          int64\n",
       "DR                          int64\n",
       "SH                          int64\n",
       "FZ                          int64\n",
       "MI                          int64\n",
       "PR                          int64\n",
       "BC                          int64\n",
       "BL                          int64\n",
       "VC                          int64\n",
       "dtype: object"
      ]
     },
     "execution_count": 291,
     "metadata": {},
     "output_type": "execute_result"
    }
   ],
   "source": [
    "train_weather.dtypes"
   ]
  },
  {
   "cell_type": "code",
   "execution_count": 293,
   "metadata": {
    "collapsed": false,
    "scrolled": false
   },
   "outputs": [
    {
     "data": {
      "text/plain": [
       "<matplotlib.axes._subplots.AxesSubplot at 0x111a439d0>"
      ]
     },
     "execution_count": 293,
     "metadata": {},
     "output_type": "execute_result"
    },
    {
     "data": {
      "image/png": "[encoded data removed]",
      "text/plain": [
       "<matplotlib.figure.Figure at 0x1123714d0>"
      ]
     },
     "metadata": {},
     "output_type": "display_data"
    }
   ],
   "source": [
    "sns.set()\n",
    "sns.set_context(\"paper\")\n",
    "plt.figure(figsize=(20, 20))\n",
    "sns.heatmap(train_weather.corr(), cmap=\"RdBu\")"
   ]
  },
  {
   "cell_type": "code",
   "execution_count": 295,
   "metadata": {
    "collapsed": false
   },
   "outputs": [],
   "source": [
    "train_weather.to_csv('Clean_Merge_Train_Weather.csv', index=False)"
   ]
  }
 ],
 "metadata": {
  "kernelspec": {
   "display_name": "Python 2",
   "language": "python",
   "name": "python2"
  },
  "language_info": {
   "codemirror_mode": {
    "name": "ipython",
    "version": 2
   },
   "file_extension": ".py",
   "mimetype": "text/x-python",
   "name": "python",
   "nbconvert_exporter": "python",
   "pygments_lexer": "ipython2",
   "version": "2.7.13"
  }
 },
 "nbformat": 4,
 "nbformat_minor": 2
}
