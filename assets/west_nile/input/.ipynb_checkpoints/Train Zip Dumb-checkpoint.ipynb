{
 "cells": [
  {
   "cell_type": "code",
   "execution_count": 4,
   "metadata": {
    "collapsed": true
   },
   "outputs": [],
   "source": [
    "import pandas as pd\n",
    "\n",
    "train = pd.read_csv('superdf.csv')"
   ]
  },
  {
   "cell_type": "code",
   "execution_count": 6,
   "metadata": {
    "collapsed": false
   },
   "outputs": [],
   "source": [
    "train.drop(['Unnamed: 0'], axis=1, inplace=True)"
   ]
  },
  {
   "cell_type": "code",
   "execution_count": 7,
   "metadata": {
    "collapsed": false
   },
   "outputs": [
    {
     "data": {
      "text/plain": [
       "(21012, 168)"
      ]
     },
     "execution_count": 7,
     "metadata": {},
     "output_type": "execute_result"
    }
   ],
   "source": [
    "train.shape"
   ]
  },
  {
   "cell_type": "code",
   "execution_count": 9,
   "metadata": {
    "collapsed": false
   },
   "outputs": [
    {
     "name": "stderr",
     "output_type": "stream",
     "text": [
      "/Users/valeriarozenbaum/anaconda/lib/python2.7/site-packages/ipykernel/__main__.py:1: FutureWarning: currently extract(expand=None) means expand=False (return Index/Series/DataFrame) but in a future version of pandas this will be changed to expand=True (return DataFrame)\n",
      "  if __name__ == '__main__':\n"
     ]
    }
   ],
   "source": [
    "train['Zip'] = train['Address'].str.extract('(\\d{5})')"
   ]
  },
  {
   "cell_type": "code",
   "execution_count": 10,
   "metadata": {
    "collapsed": false
   },
   "outputs": [
    {
     "data": {
      "text/html": [
       "<div>\n",
       "<table border=\"1\" class=\"dataframe\">\n",
       "  <thead>\n",
       "    <tr style=\"text-align: right;\">\n",
       "      <th></th>\n",
       "      <th>Station</th>\n",
       "      <th>Date</th>\n",
       "      <th>Tmax</th>\n",
       "      <th>Tmin</th>\n",
       "      <th>Tavg</th>\n",
       "      <th>DewPoint</th>\n",
       "      <th>Heat</th>\n",
       "      <th>Cool</th>\n",
       "      <th>PrecipTotal</th>\n",
       "      <th>StnPressure</th>\n",
       "      <th>...</th>\n",
       "      <th>T231</th>\n",
       "      <th>T232</th>\n",
       "      <th>T233</th>\n",
       "      <th>T235</th>\n",
       "      <th>T236</th>\n",
       "      <th>T237</th>\n",
       "      <th>T238</th>\n",
       "      <th>T900</th>\n",
       "      <th>T903</th>\n",
       "      <th>Zip</th>\n",
       "    </tr>\n",
       "  </thead>\n",
       "  <tbody>\n",
       "    <tr>\n",
       "      <th>0</th>\n",
       "      <td>1</td>\n",
       "      <td>2007-05-29</td>\n",
       "      <td>88</td>\n",
       "      <td>60</td>\n",
       "      <td>74</td>\n",
       "      <td>58</td>\n",
       "      <td>0</td>\n",
       "      <td>9</td>\n",
       "      <td>0.0</td>\n",
       "      <td>29.39</td>\n",
       "      <td>...</td>\n",
       "      <td>0</td>\n",
       "      <td>0</td>\n",
       "      <td>0</td>\n",
       "      <td>0</td>\n",
       "      <td>0</td>\n",
       "      <td>0</td>\n",
       "      <td>0</td>\n",
       "      <td>0</td>\n",
       "      <td>0</td>\n",
       "      <td>60634</td>\n",
       "    </tr>\n",
       "    <tr>\n",
       "      <th>1</th>\n",
       "      <td>1</td>\n",
       "      <td>2007-05-29</td>\n",
       "      <td>88</td>\n",
       "      <td>60</td>\n",
       "      <td>74</td>\n",
       "      <td>58</td>\n",
       "      <td>0</td>\n",
       "      <td>9</td>\n",
       "      <td>0.0</td>\n",
       "      <td>29.39</td>\n",
       "      <td>...</td>\n",
       "      <td>0</td>\n",
       "      <td>0</td>\n",
       "      <td>0</td>\n",
       "      <td>0</td>\n",
       "      <td>0</td>\n",
       "      <td>0</td>\n",
       "      <td>0</td>\n",
       "      <td>0</td>\n",
       "      <td>0</td>\n",
       "      <td>60634</td>\n",
       "    </tr>\n",
       "    <tr>\n",
       "      <th>2</th>\n",
       "      <td>1</td>\n",
       "      <td>2007-05-29</td>\n",
       "      <td>88</td>\n",
       "      <td>60</td>\n",
       "      <td>74</td>\n",
       "      <td>58</td>\n",
       "      <td>0</td>\n",
       "      <td>9</td>\n",
       "      <td>0.0</td>\n",
       "      <td>29.39</td>\n",
       "      <td>...</td>\n",
       "      <td>0</td>\n",
       "      <td>0</td>\n",
       "      <td>0</td>\n",
       "      <td>0</td>\n",
       "      <td>0</td>\n",
       "      <td>0</td>\n",
       "      <td>0</td>\n",
       "      <td>0</td>\n",
       "      <td>0</td>\n",
       "      <td>60646</td>\n",
       "    </tr>\n",
       "    <tr>\n",
       "      <th>3</th>\n",
       "      <td>1</td>\n",
       "      <td>2007-05-29</td>\n",
       "      <td>88</td>\n",
       "      <td>60</td>\n",
       "      <td>74</td>\n",
       "      <td>58</td>\n",
       "      <td>0</td>\n",
       "      <td>9</td>\n",
       "      <td>0.0</td>\n",
       "      <td>29.39</td>\n",
       "      <td>...</td>\n",
       "      <td>0</td>\n",
       "      <td>0</td>\n",
       "      <td>0</td>\n",
       "      <td>0</td>\n",
       "      <td>0</td>\n",
       "      <td>0</td>\n",
       "      <td>0</td>\n",
       "      <td>0</td>\n",
       "      <td>0</td>\n",
       "      <td>60656</td>\n",
       "    </tr>\n",
       "    <tr>\n",
       "      <th>4</th>\n",
       "      <td>1</td>\n",
       "      <td>2007-05-29</td>\n",
       "      <td>88</td>\n",
       "      <td>60</td>\n",
       "      <td>74</td>\n",
       "      <td>58</td>\n",
       "      <td>0</td>\n",
       "      <td>9</td>\n",
       "      <td>0.0</td>\n",
       "      <td>29.39</td>\n",
       "      <td>...</td>\n",
       "      <td>0</td>\n",
       "      <td>0</td>\n",
       "      <td>0</td>\n",
       "      <td>0</td>\n",
       "      <td>0</td>\n",
       "      <td>0</td>\n",
       "      <td>0</td>\n",
       "      <td>0</td>\n",
       "      <td>0</td>\n",
       "      <td>60656</td>\n",
       "    </tr>\n",
       "  </tbody>\n",
       "</table>\n",
       "<p>5 rows × 169 columns</p>\n",
       "</div>"
      ],
      "text/plain": [
       "   Station        Date  Tmax  Tmin  Tavg  DewPoint  Heat  Cool  PrecipTotal  \\\n",
       "0        1  2007-05-29    88    60    74        58     0     9          0.0   \n",
       "1        1  2007-05-29    88    60    74        58     0     9          0.0   \n",
       "2        1  2007-05-29    88    60    74        58     0     9          0.0   \n",
       "3        1  2007-05-29    88    60    74        58     0     9          0.0   \n",
       "4        1  2007-05-29    88    60    74        58     0     9          0.0   \n",
       "\n",
       "   StnPressure  ...    T231  T232 T233 T235  T236 T237 T238 T900  T903    Zip  \n",
       "0        29.39  ...       0     0    0    0     0    0    0    0     0  60634  \n",
       "1        29.39  ...       0     0    0    0     0    0    0    0     0  60634  \n",
       "2        29.39  ...       0     0    0    0     0    0    0    0     0  60646  \n",
       "3        29.39  ...       0     0    0    0     0    0    0    0     0  60656  \n",
       "4        29.39  ...       0     0    0    0     0    0    0    0     0  60656  \n",
       "\n",
       "[5 rows x 169 columns]"
      ]
     },
     "execution_count": 10,
     "metadata": {},
     "output_type": "execute_result"
    }
   ],
   "source": [
    "train.head()"
   ]
  },
  {
   "cell_type": "code",
   "execution_count": 12,
   "metadata": {
    "collapsed": false
   },
   "outputs": [
    {
     "data": {
      "text/plain": [
       "Station                      0\n",
       "Date                         0\n",
       "Tmax                         0\n",
       "Tmin                         0\n",
       "Tavg                         0\n",
       "DewPoint                     0\n",
       "Heat                         0\n",
       "Cool                         0\n",
       "PrecipTotal                  0\n",
       "StnPressure                  0\n",
       "ResultDir                    0\n",
       "AvgSpeed                     0\n",
       "Address                      0\n",
       "Species                      0\n",
       "Block                        0\n",
       "Street                       0\n",
       "Trap                         0\n",
       "AddressNumberAndStreet       0\n",
       "Latitude                     0\n",
       "Longitude                    0\n",
       "AddressAccuracy              0\n",
       "NumMosquitos                 0\n",
       "WnvPresent                   0\n",
       "Tmax-15d                     0\n",
       "Tmin-15d                     0\n",
       "Tavg-15d                     0\n",
       "DewPoint-15d                 0\n",
       "Heat-15d                     0\n",
       "Cool-15d                     0\n",
       "PrecipTotal-15d              0\n",
       "                          ... \n",
       "T161                         0\n",
       "T162                         0\n",
       "T200                         0\n",
       "T206                         0\n",
       "T209                         0\n",
       "T212                         0\n",
       "T215                         0\n",
       "T218                         0\n",
       "T219                         0\n",
       "T220                         0\n",
       "T221                         0\n",
       "T222                         0\n",
       "T223                         0\n",
       "T224                         0\n",
       "T225                         0\n",
       "T226                         0\n",
       "T227                         0\n",
       "T228                         0\n",
       "T229                         0\n",
       "T230                         0\n",
       "T231                         0\n",
       "T232                         0\n",
       "T233                         0\n",
       "T235                         0\n",
       "T236                         0\n",
       "T237                         0\n",
       "T238                         0\n",
       "T900                         0\n",
       "T903                         0\n",
       "Zip                       3016\n",
       "dtype: int64"
      ]
     },
     "execution_count": 12,
     "metadata": {},
     "output_type": "execute_result"
    }
   ],
   "source": [
    "train.isnull().sum()"
   ]
  },
  {
   "cell_type": "code",
   "execution_count": 13,
   "metadata": {
    "collapsed": false
   },
   "outputs": [
    {
     "data": {
      "text/plain": [
       "array(['60634', '60646', '60656', '60614', '60654', '60608', '60642',\n",
       "       '60647', '60643', '60611', '60631', '60645', '60651', '60620',\n",
       "       '60618', '60630', '60659', '60638', '60622', nan, '60607', '60605',\n",
       "       '60803', '60660', '60626', '60707', '60623', '60639', '60655',\n",
       "       '60619', '60641', '60625', '60612', '60640', '60628', '60609',\n",
       "       '60632', '60629', '60636', '60637', '60615', '60649', '60617',\n",
       "       '60652', '60827', '60633', '60018', '60666', '60106', '60613',\n",
       "       '60621'], dtype=object)"
      ]
     },
     "execution_count": 13,
     "metadata": {},
     "output_type": "execute_result"
    }
   ],
   "source": [
    "train.Zip.unique()"
   ]
  },
  {
   "cell_type": "code",
   "execution_count": 16,
   "metadata": {
    "collapsed": false
   },
   "outputs": [],
   "source": [
    "zips = pd.get_dummies(train['Zip'])"
   ]
  },
  {
   "cell_type": "code",
   "execution_count": 18,
   "metadata": {
    "collapsed": false
   },
   "outputs": [
    {
     "data": {
      "text/plain": [
       "Index([u'60018', u'60106', u'60605', u'60607', u'60608', u'60609', u'60611',\n",
       "       u'60612', u'60613', u'60614', u'60615', u'60617', u'60618', u'60619',\n",
       "       u'60620', u'60621', u'60622', u'60623', u'60625', u'60626', u'60628',\n",
       "       u'60629', u'60630', u'60631', u'60632', u'60633', u'60634', u'60636',\n",
       "       u'60637', u'60638', u'60639', u'60640', u'60641', u'60642', u'60643',\n",
       "       u'60645', u'60646', u'60647', u'60649', u'60651', u'60652', u'60654',\n",
       "       u'60655', u'60656', u'60659', u'60660', u'60666', u'60707', u'60803',\n",
       "       u'60827'],\n",
       "      dtype='object')"
      ]
     },
     "execution_count": 18,
     "metadata": {},
     "output_type": "execute_result"
    }
   ],
   "source": [
    "zips.columns"
   ]
  },
  {
   "cell_type": "code",
   "execution_count": 19,
   "metadata": {
    "collapsed": true
   },
   "outputs": [],
   "source": [
    "train_zip = pd.concat([train, zips], axis=1)"
   ]
  },
  {
   "cell_type": "code",
   "execution_count": 21,
   "metadata": {
    "collapsed": false
   },
   "outputs": [
    {
     "data": {
      "text/plain": [
       "(21012, 219)"
      ]
     },
     "execution_count": 21,
     "metadata": {},
     "output_type": "execute_result"
    }
   ],
   "source": [
    "train_zip.shape"
   ]
  },
  {
   "cell_type": "code",
   "execution_count": 22,
   "metadata": {
    "collapsed": true
   },
   "outputs": [],
   "source": [
    "train_zip.drop(['Zip'], axis=1,inplace=True)"
   ]
  },
  {
   "cell_type": "code",
   "execution_count": 23,
   "metadata": {
    "collapsed": false
   },
   "outputs": [
    {
     "data": {
      "text/plain": [
       "(21012, 218)"
      ]
     },
     "execution_count": 23,
     "metadata": {},
     "output_type": "execute_result"
    }
   ],
   "source": [
    "train_zip.shape"
   ]
  },
  {
   "cell_type": "code",
   "execution_count": 24,
   "metadata": {
    "collapsed": true
   },
   "outputs": [],
   "source": [
    "train_zip.to_csv('Train_W_Z_T_S.csv', index=False)"
   ]
  },
  {
   "cell_type": "code",
   "execution_count": null,
   "metadata": {
    "collapsed": true
   },
   "outputs": [],
   "source": []
  },
  {
   "cell_type": "code",
   "execution_count": null,
   "metadata": {
    "collapsed": true
   },
   "outputs": [],
   "source": []
  }
 ],
 "metadata": {
  "kernelspec": {
   "display_name": "Python 2",
   "language": "python",
   "name": "python2"
  },
  "language_info": {
   "codemirror_mode": {
    "name": "ipython",
    "version": 2
   },
   "file_extension": ".py",
   "mimetype": "text/x-python",
   "name": "python",
   "nbconvert_exporter": "python",
   "pygments_lexer": "ipython2",
   "version": "2.7.13"
  }
 },
 "nbformat": 4,
 "nbformat_minor": 2
}
