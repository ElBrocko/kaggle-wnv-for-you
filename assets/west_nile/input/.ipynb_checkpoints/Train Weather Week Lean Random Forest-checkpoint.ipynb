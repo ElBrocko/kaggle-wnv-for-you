{
 "cells": [
  {
   "cell_type": "code",
   "execution_count": 268,
   "metadata": {
    "collapsed": false
   },
   "outputs": [],
   "source": [
    "import pandas as pd\n",
    "from sklearn.ensemble import RandomForestClassifier, RandomForestRegressor\n",
    "from sklearn.model_selection import train_test_split\n",
    "from sklearn.preprocessing import StandardScaler\n",
    "from sklearn.metrics import accuracy_score\n",
    "from sklearn.metrics import classification_report\n",
    "from sklearn.metrics import confusion_matrix\n",
    "\n",
    "\n",
    "train_weather = pd.read_csv('train_weather_week_lean.csv')"
   ]
  },
  {
   "cell_type": "code",
   "execution_count": 269,
   "metadata": {
    "collapsed": false
   },
   "outputs": [],
   "source": [
    "train_weather.drop(['Unnamed: 0', 'start date', 'Week_Number','mean_Tavg','Sunrise','Sunset'], axis=1, inplace=True)"
   ]
  },
  {
   "cell_type": "code",
   "execution_count": 270,
   "metadata": {
    "collapsed": false
   },
   "outputs": [
    {
     "data": {
      "text/plain": [
       "Index([u'Mosquitos', u'WNV_Present', u'mean_Tmax', u'mean_Tmin',\n",
       "       u'mean_Depart', u'mean_DewPoint', u'mean_WetBulb', u'mean_Heat',\n",
       "       u'mean_Cool', u'mean_PrecipTotal', u'mean_StnPressure',\n",
       "       u'mean_SeaLevel', u'mean_ResultSpeed', u'mean_ResultDir',\n",
       "       u'mean_AvgSpeed', u'mean_Tdiff', u'Thunder_Storms', u'Hail', u'Rain',\n",
       "       u'Drizzle', u'Snow', u'Fog', u'Mist', u'Haze', u'Fume', u'Squall',\n",
       "       u'Shallow', u'Patches', u'Vicinity'],\n",
       "      dtype='object')"
      ]
     },
     "execution_count": 270,
     "metadata": {},
     "output_type": "execute_result"
    }
   ],
   "source": [
    "train_weather.columns"
   ]
  },
  {
   "cell_type": "code",
   "execution_count": 271,
   "metadata": {
    "collapsed": false
   },
   "outputs": [
    {
     "data": {
      "text/html": [
       "<div>\n",
       "<table border=\"1\" class=\"dataframe\">\n",
       "  <thead>\n",
       "    <tr style=\"text-align: right;\">\n",
       "      <th></th>\n",
       "      <th>Mosquitos</th>\n",
       "      <th>WNV_Present</th>\n",
       "      <th>mean_Tmax</th>\n",
       "      <th>mean_Tmin</th>\n",
       "      <th>mean_Depart</th>\n",
       "      <th>mean_DewPoint</th>\n",
       "      <th>mean_WetBulb</th>\n",
       "      <th>mean_Heat</th>\n",
       "      <th>mean_Cool</th>\n",
       "      <th>mean_PrecipTotal</th>\n",
       "      <th>mean_StnPressure</th>\n",
       "      <th>mean_SeaLevel</th>\n",
       "      <th>mean_ResultSpeed</th>\n",
       "      <th>mean_ResultDir</th>\n",
       "      <th>mean_AvgSpeed</th>\n",
       "      <th>mean_Tdiff</th>\n",
       "      <th>Thunder_Storms</th>\n",
       "      <th>Hail</th>\n",
       "      <th>Rain</th>\n",
       "      <th>Drizzle</th>\n",
       "      <th>Snow</th>\n",
       "      <th>Fog</th>\n",
       "      <th>Mist</th>\n",
       "      <th>Haze</th>\n",
       "      <th>Fume</th>\n",
       "      <th>Squall</th>\n",
       "      <th>Shallow</th>\n",
       "      <th>Patches</th>\n",
       "      <th>Vicinity</th>\n",
       "    </tr>\n",
       "  </thead>\n",
       "  <tbody>\n",
       "    <tr>\n",
       "      <th>0</th>\n",
       "      <td>11</td>\n",
       "      <td>0</td>\n",
       "      <td>67.500000</td>\n",
       "      <td>54.166667</td>\n",
       "      <td>6.666667</td>\n",
       "      <td>47.500000</td>\n",
       "      <td>54.000000</td>\n",
       "      <td>4.333333</td>\n",
       "      <td>0.166667</td>\n",
       "      <td>0.226667</td>\n",
       "      <td>29.048333</td>\n",
       "      <td>29.715000</td>\n",
       "      <td>7.716667</td>\n",
       "      <td>24.333333</td>\n",
       "      <td>9.000000</td>\n",
       "      <td>13.333333</td>\n",
       "      <td>0.000000</td>\n",
       "      <td>0.0</td>\n",
       "      <td>0.666667</td>\n",
       "      <td>0.000000</td>\n",
       "      <td>0.0</td>\n",
       "      <td>0.000000</td>\n",
       "      <td>0.500000</td>\n",
       "      <td>0.000000</td>\n",
       "      <td>0.0</td>\n",
       "      <td>0.0</td>\n",
       "      <td>0.0</td>\n",
       "      <td>0.0</td>\n",
       "      <td>0.000000</td>\n",
       "    </tr>\n",
       "    <tr>\n",
       "      <th>1</th>\n",
       "      <td>710</td>\n",
       "      <td>6</td>\n",
       "      <td>66.071429</td>\n",
       "      <td>47.261905</td>\n",
       "      <td>1.833333</td>\n",
       "      <td>42.238095</td>\n",
       "      <td>49.535714</td>\n",
       "      <td>9.047619</td>\n",
       "      <td>0.630952</td>\n",
       "      <td>0.094702</td>\n",
       "      <td>29.268810</td>\n",
       "      <td>29.957857</td>\n",
       "      <td>8.654762</td>\n",
       "      <td>15.785714</td>\n",
       "      <td>10.377381</td>\n",
       "      <td>18.809524</td>\n",
       "      <td>0.130952</td>\n",
       "      <td>0.0</td>\n",
       "      <td>0.380952</td>\n",
       "      <td>0.035714</td>\n",
       "      <td>0.0</td>\n",
       "      <td>0.011905</td>\n",
       "      <td>0.261905</td>\n",
       "      <td>0.095238</td>\n",
       "      <td>0.0</td>\n",
       "      <td>0.0</td>\n",
       "      <td>0.0</td>\n",
       "      <td>0.0</td>\n",
       "      <td>0.011905</td>\n",
       "    </tr>\n",
       "    <tr>\n",
       "      <th>2</th>\n",
       "      <td>800</td>\n",
       "      <td>5</td>\n",
       "      <td>69.723214</td>\n",
       "      <td>49.053571</td>\n",
       "      <td>2.571429</td>\n",
       "      <td>44.428571</td>\n",
       "      <td>51.794643</td>\n",
       "      <td>6.598214</td>\n",
       "      <td>1.223214</td>\n",
       "      <td>0.162009</td>\n",
       "      <td>29.246339</td>\n",
       "      <td>29.937143</td>\n",
       "      <td>7.669643</td>\n",
       "      <td>14.142857</td>\n",
       "      <td>9.738393</td>\n",
       "      <td>20.669643</td>\n",
       "      <td>0.116071</td>\n",
       "      <td>0.0</td>\n",
       "      <td>0.375000</td>\n",
       "      <td>0.053571</td>\n",
       "      <td>0.0</td>\n",
       "      <td>0.035714</td>\n",
       "      <td>0.339286</td>\n",
       "      <td>0.133929</td>\n",
       "      <td>0.0</td>\n",
       "      <td>0.0</td>\n",
       "      <td>0.0</td>\n",
       "      <td>0.0</td>\n",
       "      <td>0.000000</td>\n",
       "    </tr>\n",
       "    <tr>\n",
       "      <th>3</th>\n",
       "      <td>656</td>\n",
       "      <td>9</td>\n",
       "      <td>70.928571</td>\n",
       "      <td>49.607143</td>\n",
       "      <td>1.053571</td>\n",
       "      <td>44.553571</td>\n",
       "      <td>52.366071</td>\n",
       "      <td>6.517857</td>\n",
       "      <td>2.053571</td>\n",
       "      <td>0.089643</td>\n",
       "      <td>29.290804</td>\n",
       "      <td>29.982143</td>\n",
       "      <td>7.654464</td>\n",
       "      <td>14.705357</td>\n",
       "      <td>9.499107</td>\n",
       "      <td>21.321429</td>\n",
       "      <td>0.142857</td>\n",
       "      <td>0.0</td>\n",
       "      <td>0.348214</td>\n",
       "      <td>0.071429</td>\n",
       "      <td>0.0</td>\n",
       "      <td>0.026786</td>\n",
       "      <td>0.312500</td>\n",
       "      <td>0.089286</td>\n",
       "      <td>0.0</td>\n",
       "      <td>0.0</td>\n",
       "      <td>0.0</td>\n",
       "      <td>0.0</td>\n",
       "      <td>0.017857</td>\n",
       "    </tr>\n",
       "    <tr>\n",
       "      <th>4</th>\n",
       "      <td>945</td>\n",
       "      <td>9</td>\n",
       "      <td>74.741071</td>\n",
       "      <td>54.321429</td>\n",
       "      <td>2.517857</td>\n",
       "      <td>48.294643</td>\n",
       "      <td>55.830357</td>\n",
       "      <td>4.187500</td>\n",
       "      <td>3.991071</td>\n",
       "      <td>0.156161</td>\n",
       "      <td>29.301250</td>\n",
       "      <td>29.987054</td>\n",
       "      <td>8.260714</td>\n",
       "      <td>12.901786</td>\n",
       "      <td>9.659821</td>\n",
       "      <td>20.419643</td>\n",
       "      <td>0.142857</td>\n",
       "      <td>0.0</td>\n",
       "      <td>0.339286</td>\n",
       "      <td>0.008929</td>\n",
       "      <td>0.0</td>\n",
       "      <td>0.017857</td>\n",
       "      <td>0.205357</td>\n",
       "      <td>0.053571</td>\n",
       "      <td>0.0</td>\n",
       "      <td>0.0</td>\n",
       "      <td>0.0</td>\n",
       "      <td>0.0</td>\n",
       "      <td>0.000000</td>\n",
       "    </tr>\n",
       "  </tbody>\n",
       "</table>\n",
       "</div>"
      ],
      "text/plain": [
       "   Mosquitos  WNV_Present  mean_Tmax  mean_Tmin  mean_Depart  mean_DewPoint  \\\n",
       "0         11            0  67.500000  54.166667     6.666667      47.500000   \n",
       "1        710            6  66.071429  47.261905     1.833333      42.238095   \n",
       "2        800            5  69.723214  49.053571     2.571429      44.428571   \n",
       "3        656            9  70.928571  49.607143     1.053571      44.553571   \n",
       "4        945            9  74.741071  54.321429     2.517857      48.294643   \n",
       "\n",
       "   mean_WetBulb  mean_Heat  mean_Cool  mean_PrecipTotal  mean_StnPressure  \\\n",
       "0     54.000000   4.333333   0.166667          0.226667         29.048333   \n",
       "1     49.535714   9.047619   0.630952          0.094702         29.268810   \n",
       "2     51.794643   6.598214   1.223214          0.162009         29.246339   \n",
       "3     52.366071   6.517857   2.053571          0.089643         29.290804   \n",
       "4     55.830357   4.187500   3.991071          0.156161         29.301250   \n",
       "\n",
       "   mean_SeaLevel  mean_ResultSpeed  mean_ResultDir  mean_AvgSpeed  mean_Tdiff  \\\n",
       "0      29.715000          7.716667       24.333333       9.000000   13.333333   \n",
       "1      29.957857          8.654762       15.785714      10.377381   18.809524   \n",
       "2      29.937143          7.669643       14.142857       9.738393   20.669643   \n",
       "3      29.982143          7.654464       14.705357       9.499107   21.321429   \n",
       "4      29.987054          8.260714       12.901786       9.659821   20.419643   \n",
       "\n",
       "   Thunder_Storms  Hail      Rain   Drizzle  Snow       Fog      Mist  \\\n",
       "0        0.000000   0.0  0.666667  0.000000   0.0  0.000000  0.500000   \n",
       "1        0.130952   0.0  0.380952  0.035714   0.0  0.011905  0.261905   \n",
       "2        0.116071   0.0  0.375000  0.053571   0.0  0.035714  0.339286   \n",
       "3        0.142857   0.0  0.348214  0.071429   0.0  0.026786  0.312500   \n",
       "4        0.142857   0.0  0.339286  0.008929   0.0  0.017857  0.205357   \n",
       "\n",
       "       Haze  Fume  Squall  Shallow  Patches  Vicinity  \n",
       "0  0.000000   0.0     0.0      0.0      0.0  0.000000  \n",
       "1  0.095238   0.0     0.0      0.0      0.0  0.011905  \n",
       "2  0.133929   0.0     0.0      0.0      0.0  0.000000  \n",
       "3  0.089286   0.0     0.0      0.0      0.0  0.017857  \n",
       "4  0.053571   0.0     0.0      0.0      0.0  0.000000  "
      ]
     },
     "execution_count": 271,
     "metadata": {},
     "output_type": "execute_result"
    }
   ],
   "source": [
    "train_weather.head()"
   ]
  },
  {
   "cell_type": "code",
   "execution_count": 201,
   "metadata": {
    "collapsed": false
   },
   "outputs": [],
   "source": [
    "train_weather_scaled =(train_weather - train_weather.mean())/train_weather.std()"
   ]
  },
  {
   "cell_type": "code",
   "execution_count": 202,
   "metadata": {
    "collapsed": false
   },
   "outputs": [
    {
     "data": {
      "text/html": [
       "<div>\n",
       "<table border=\"1\" class=\"dataframe\">\n",
       "  <thead>\n",
       "    <tr style=\"text-align: right;\">\n",
       "      <th></th>\n",
       "      <th>Mosquitos</th>\n",
       "      <th>WNV_Present</th>\n",
       "      <th>mean_Tmax</th>\n",
       "      <th>mean_Tmin</th>\n",
       "      <th>mean_Depart</th>\n",
       "      <th>mean_DewPoint</th>\n",
       "      <th>mean_WetBulb</th>\n",
       "      <th>mean_Heat</th>\n",
       "      <th>mean_Cool</th>\n",
       "      <th>mean_PrecipTotal</th>\n",
       "      <th>mean_StnPressure</th>\n",
       "      <th>mean_SeaLevel</th>\n",
       "      <th>mean_ResultSpeed</th>\n",
       "      <th>mean_ResultDir</th>\n",
       "      <th>mean_AvgSpeed</th>\n",
       "      <th>mean_Tdiff</th>\n",
       "      <th>Thunder_Storms</th>\n",
       "      <th>Hail</th>\n",
       "      <th>Rain</th>\n",
       "      <th>Drizzle</th>\n",
       "      <th>Snow</th>\n",
       "      <th>Fog</th>\n",
       "      <th>Mist</th>\n",
       "      <th>Haze</th>\n",
       "      <th>Fume</th>\n",
       "      <th>Squall</th>\n",
       "      <th>Shallow</th>\n",
       "      <th>Patches</th>\n",
       "      <th>Vicinity</th>\n",
       "    </tr>\n",
       "  </thead>\n",
       "  <tbody>\n",
       "    <tr>\n",
       "      <th>0</th>\n",
       "      <td>-1.724924</td>\n",
       "      <td>-1.864821</td>\n",
       "      <td>-0.900286</td>\n",
       "      <td>-0.365637</td>\n",
       "      <td>2.659744</td>\n",
       "      <td>-0.661634</td>\n",
       "      <td>-0.633852</td>\n",
       "      <td>0.126589</td>\n",
       "      <td>-1.184714</td>\n",
       "      <td>1.393488</td>\n",
       "      <td>-2.948164</td>\n",
       "      <td>-2.938550</td>\n",
       "      <td>0.592340</td>\n",
       "      <td>2.109706</td>\n",
       "      <td>0.329151</td>\n",
       "      <td>-2.489568</td>\n",
       "      <td>-1.500736</td>\n",
       "      <td>-0.185695</td>\n",
       "      <td>2.766012</td>\n",
       "      <td>-0.909189</td>\n",
       "      <td>-0.251454</td>\n",
       "      <td>-0.895907</td>\n",
       "      <td>2.507080</td>\n",
       "      <td>-1.839162</td>\n",
       "      <td>-0.265676</td>\n",
       "      <td>-0.333775</td>\n",
       "      <td>-0.333775</td>\n",
       "      <td>-0.286534</td>\n",
       "      <td>-0.608195</td>\n",
       "    </tr>\n",
       "    <tr>\n",
       "      <th>1</th>\n",
       "      <td>-0.997589</td>\n",
       "      <td>-0.383182</td>\n",
       "      <td>-1.068330</td>\n",
       "      <td>-1.206209</td>\n",
       "      <td>-0.263190</td>\n",
       "      <td>-1.333264</td>\n",
       "      <td>-1.247867</td>\n",
       "      <td>1.152807</td>\n",
       "      <td>-1.073905</td>\n",
       "      <td>-0.691207</td>\n",
       "      <td>-0.007169</td>\n",
       "      <td>0.065191</td>\n",
       "      <td>1.468061</td>\n",
       "      <td>-0.751389</td>\n",
       "      <td>1.692184</td>\n",
       "      <td>0.442309</td>\n",
       "      <td>0.288927</td>\n",
       "      <td>-0.185695</td>\n",
       "      <td>0.075175</td>\n",
       "      <td>-0.140611</td>\n",
       "      <td>-0.251454</td>\n",
       "      <td>-0.057800</td>\n",
       "      <td>-0.359252</td>\n",
       "      <td>0.235204</td>\n",
       "      <td>-0.265676</td>\n",
       "      <td>-0.333775</td>\n",
       "      <td>-0.333775</td>\n",
       "      <td>-0.286534</td>\n",
       "      <td>0.399671</td>\n",
       "    </tr>\n",
       "    <tr>\n",
       "      <th>2</th>\n",
       "      <td>-0.903940</td>\n",
       "      <td>-0.630122</td>\n",
       "      <td>-0.638769</td>\n",
       "      <td>-0.988095</td>\n",
       "      <td>0.183169</td>\n",
       "      <td>-1.053671</td>\n",
       "      <td>-0.937175</td>\n",
       "      <td>0.619614</td>\n",
       "      <td>-0.932553</td>\n",
       "      <td>0.372062</td>\n",
       "      <td>-0.306906</td>\n",
       "      <td>-0.191010</td>\n",
       "      <td>0.548443</td>\n",
       "      <td>-1.301293</td>\n",
       "      <td>1.059853</td>\n",
       "      <td>1.438191</td>\n",
       "      <td>0.085556</td>\n",
       "      <td>-0.185695</td>\n",
       "      <td>0.019116</td>\n",
       "      <td>0.243677</td>\n",
       "      <td>-0.251454</td>\n",
       "      <td>1.618412</td>\n",
       "      <td>0.572305</td>\n",
       "      <td>1.077915</td>\n",
       "      <td>-0.265676</td>\n",
       "      <td>-0.333775</td>\n",
       "      <td>-0.333775</td>\n",
       "      <td>-0.286534</td>\n",
       "      <td>-0.608195</td>\n",
       "    </tr>\n",
       "    <tr>\n",
       "      <th>3</th>\n",
       "      <td>-1.053778</td>\n",
       "      <td>0.357637</td>\n",
       "      <td>-0.496982</td>\n",
       "      <td>-0.920705</td>\n",
       "      <td>-0.734747</td>\n",
       "      <td>-1.037716</td>\n",
       "      <td>-0.858581</td>\n",
       "      <td>0.602122</td>\n",
       "      <td>-0.734376</td>\n",
       "      <td>-0.771135</td>\n",
       "      <td>0.286216</td>\n",
       "      <td>0.365566</td>\n",
       "      <td>0.534273</td>\n",
       "      <td>-1.113011</td>\n",
       "      <td>0.823059</td>\n",
       "      <td>1.787148</td>\n",
       "      <td>0.451624</td>\n",
       "      <td>-0.185695</td>\n",
       "      <td>-0.233150</td>\n",
       "      <td>0.627966</td>\n",
       "      <td>-0.251454</td>\n",
       "      <td>0.989832</td>\n",
       "      <td>0.249843</td>\n",
       "      <td>0.105556</td>\n",
       "      <td>-0.265676</td>\n",
       "      <td>-0.333775</td>\n",
       "      <td>-0.333775</td>\n",
       "      <td>-0.286534</td>\n",
       "      <td>0.903604</td>\n",
       "    </tr>\n",
       "    <tr>\n",
       "      <th>4</th>\n",
       "      <td>-0.753062</td>\n",
       "      <td>0.357637</td>\n",
       "      <td>-0.048516</td>\n",
       "      <td>-0.346797</td>\n",
       "      <td>0.150772</td>\n",
       "      <td>-0.560205</td>\n",
       "      <td>-0.382106</td>\n",
       "      <td>0.094844</td>\n",
       "      <td>-0.271962</td>\n",
       "      <td>0.279676</td>\n",
       "      <td>0.425564</td>\n",
       "      <td>0.426303</td>\n",
       "      <td>1.100214</td>\n",
       "      <td>-1.716710</td>\n",
       "      <td>0.982100</td>\n",
       "      <td>1.304345</td>\n",
       "      <td>0.451624</td>\n",
       "      <td>-0.185695</td>\n",
       "      <td>-0.317239</td>\n",
       "      <td>-0.717044</td>\n",
       "      <td>-0.251454</td>\n",
       "      <td>0.361253</td>\n",
       "      <td>-1.040006</td>\n",
       "      <td>-0.672331</td>\n",
       "      <td>-0.265676</td>\n",
       "      <td>-0.333775</td>\n",
       "      <td>-0.333775</td>\n",
       "      <td>-0.286534</td>\n",
       "      <td>-0.608195</td>\n",
       "    </tr>\n",
       "  </tbody>\n",
       "</table>\n",
       "</div>"
      ],
      "text/plain": [
       "   Mosquitos  WNV_Present  mean_Tmax  mean_Tmin  mean_Depart  mean_DewPoint  \\\n",
       "0  -1.724924    -1.864821  -0.900286  -0.365637     2.659744      -0.661634   \n",
       "1  -0.997589    -0.383182  -1.068330  -1.206209    -0.263190      -1.333264   \n",
       "2  -0.903940    -0.630122  -0.638769  -0.988095     0.183169      -1.053671   \n",
       "3  -1.053778     0.357637  -0.496982  -0.920705    -0.734747      -1.037716   \n",
       "4  -0.753062     0.357637  -0.048516  -0.346797     0.150772      -0.560205   \n",
       "\n",
       "   mean_WetBulb  mean_Heat  mean_Cool  mean_PrecipTotal  mean_StnPressure  \\\n",
       "0     -0.633852   0.126589  -1.184714          1.393488         -2.948164   \n",
       "1     -1.247867   1.152807  -1.073905         -0.691207         -0.007169   \n",
       "2     -0.937175   0.619614  -0.932553          0.372062         -0.306906   \n",
       "3     -0.858581   0.602122  -0.734376         -0.771135          0.286216   \n",
       "4     -0.382106   0.094844  -0.271962          0.279676          0.425564   \n",
       "\n",
       "   mean_SeaLevel  mean_ResultSpeed  mean_ResultDir  mean_AvgSpeed  mean_Tdiff  \\\n",
       "0      -2.938550          0.592340        2.109706       0.329151   -2.489568   \n",
       "1       0.065191          1.468061       -0.751389       1.692184    0.442309   \n",
       "2      -0.191010          0.548443       -1.301293       1.059853    1.438191   \n",
       "3       0.365566          0.534273       -1.113011       0.823059    1.787148   \n",
       "4       0.426303          1.100214       -1.716710       0.982100    1.304345   \n",
       "\n",
       "   Thunder_Storms      Hail      Rain   Drizzle      Snow       Fog      Mist  \\\n",
       "0       -1.500736 -0.185695  2.766012 -0.909189 -0.251454 -0.895907  2.507080   \n",
       "1        0.288927 -0.185695  0.075175 -0.140611 -0.251454 -0.057800 -0.359252   \n",
       "2        0.085556 -0.185695  0.019116  0.243677 -0.251454  1.618412  0.572305   \n",
       "3        0.451624 -0.185695 -0.233150  0.627966 -0.251454  0.989832  0.249843   \n",
       "4        0.451624 -0.185695 -0.317239 -0.717044 -0.251454  0.361253 -1.040006   \n",
       "\n",
       "       Haze      Fume    Squall   Shallow   Patches  Vicinity  \n",
       "0 -1.839162 -0.265676 -0.333775 -0.333775 -0.286534 -0.608195  \n",
       "1  0.235204 -0.265676 -0.333775 -0.333775 -0.286534  0.399671  \n",
       "2  1.077915 -0.265676 -0.333775 -0.333775 -0.286534 -0.608195  \n",
       "3  0.105556 -0.265676 -0.333775 -0.333775 -0.286534  0.903604  \n",
       "4 -0.672331 -0.265676 -0.333775 -0.333775 -0.286534 -0.608195  "
      ]
     },
     "execution_count": 202,
     "metadata": {},
     "output_type": "execute_result"
    }
   ],
   "source": [
    "train_weather_scaled.head()"
   ]
  },
  {
   "cell_type": "markdown",
   "metadata": {},
   "source": [
    "Below we are running a random forest on X as all the columns except WNV Present and Mosquitos and y being WNV Present.\n",
    "The number of estimators is 50, the max features being considered is 25, random state is true, as is warm start"
   ]
  },
  {
   "cell_type": "code",
   "execution_count": 310,
   "metadata": {
    "collapsed": false
   },
   "outputs": [
    {
     "data": {
      "text/plain": [
       "RandomForestClassifier(bootstrap=True, class_weight=None, criterion='gini',\n",
       "            max_depth=None, max_features=25, max_leaf_nodes=None,\n",
       "            min_impurity_split=1e-07, min_samples_leaf=1,\n",
       "            min_samples_split=2, min_weight_fraction_leaf=0.0,\n",
       "            n_estimators=50, n_jobs=1, oob_score=False, random_state=True,\n",
       "            verbose=0, warm_start=True)"
      ]
     },
     "execution_count": 310,
     "metadata": {},
     "output_type": "execute_result"
    }
   ],
   "source": [
    "X = train_weather_scaled.drop(['WNV_Present', 'Mosquitos'],axis=1).astype(int)\n",
    "y = train_weather_scaled['WNV_Present'].astype(int)\n",
    "\n",
    "X_train, X_test, y_train, y_test = train_test_split(X, y,test_size=0.33)\n",
    "\n",
    "rf_train_weather = RandomForestClassifier(n_estimators=50, max_features=25, random_state=True,warm_start=True)\n",
    "\n",
    "rf_train_weather.fit(X_train,y_train)"
   ]
  },
  {
   "cell_type": "code",
   "execution_count": 311,
   "metadata": {
    "collapsed": false
   },
   "outputs": [
    {
     "name": "stdout",
     "output_type": "stream",
     "text": [
      "[[2 0 0]\n",
      " [0 6 0]\n",
      " [0 1 1]]\n"
     ]
    }
   ],
   "source": [
    "y_pred = rf_train_weather_scaled.predict(X_test)\n",
    "print confusion_matrix(y_test,y_pred) \n"
   ]
  },
  {
   "cell_type": "code",
   "execution_count": 312,
   "metadata": {
    "collapsed": false,
    "scrolled": true
   },
   "outputs": [
    {
     "name": "stdout",
     "output_type": "stream",
     "text": [
      "0.9\n"
     ]
    }
   ],
   "source": [
    "print accuracy_score(y_pred, y_test) "
   ]
  },
  {
   "cell_type": "code",
   "execution_count": 313,
   "metadata": {
    "collapsed": false,
    "scrolled": true
   },
   "outputs": [
    {
     "name": "stdout",
     "output_type": "stream",
     "text": [
      "             precision    recall  f1-score   support\n",
      "\n",
      "         -1       1.00      1.00      1.00         2\n",
      "          0       0.86      1.00      0.92         6\n",
      "          1       1.00      0.50      0.67         2\n",
      "\n",
      "avg / total       0.91      0.90      0.89        10\n",
      "\n"
     ]
    }
   ],
   "source": [
    "print classification_report(y_test,y_pred)"
   ]
  },
  {
   "cell_type": "code",
   "execution_count": 314,
   "metadata": {
    "collapsed": false,
    "scrolled": true
   },
   "outputs": [
    {
     "data": {
      "text/html": [
       "<div>\n",
       "<table border=\"1\" class=\"dataframe\">\n",
       "  <thead>\n",
       "    <tr style=\"text-align: right;\">\n",
       "      <th></th>\n",
       "      <th>importance</th>\n",
       "    </tr>\n",
       "  </thead>\n",
       "  <tbody>\n",
       "    <tr>\n",
       "      <th>Rain</th>\n",
       "      <td>0.159804</td>\n",
       "    </tr>\n",
       "    <tr>\n",
       "      <th>mean_StnPressure</th>\n",
       "      <td>0.120058</td>\n",
       "    </tr>\n",
       "    <tr>\n",
       "      <th>Mist</th>\n",
       "      <td>0.119675</td>\n",
       "    </tr>\n",
       "    <tr>\n",
       "      <th>mean_Depart</th>\n",
       "      <td>0.118851</td>\n",
       "    </tr>\n",
       "    <tr>\n",
       "      <th>mean_ResultDir</th>\n",
       "      <td>0.083770</td>\n",
       "    </tr>\n",
       "    <tr>\n",
       "      <th>mean_SeaLevel</th>\n",
       "      <td>0.067616</td>\n",
       "    </tr>\n",
       "    <tr>\n",
       "      <th>Thunder_Storms</th>\n",
       "      <td>0.061503</td>\n",
       "    </tr>\n",
       "    <tr>\n",
       "      <th>Haze</th>\n",
       "      <td>0.044815</td>\n",
       "    </tr>\n",
       "    <tr>\n",
       "      <th>mean_Tdiff</th>\n",
       "      <td>0.032552</td>\n",
       "    </tr>\n",
       "    <tr>\n",
       "      <th>mean_PrecipTotal</th>\n",
       "      <td>0.031742</td>\n",
       "    </tr>\n",
       "  </tbody>\n",
       "</table>\n",
       "</div>"
      ],
      "text/plain": [
       "                  importance\n",
       "Rain                0.159804\n",
       "mean_StnPressure    0.120058\n",
       "Mist                0.119675\n",
       "mean_Depart         0.118851\n",
       "mean_ResultDir      0.083770\n",
       "mean_SeaLevel       0.067616\n",
       "Thunder_Storms      0.061503\n",
       "Haze                0.044815\n",
       "mean_Tdiff          0.032552\n",
       "mean_PrecipTotal    0.031742"
      ]
     },
     "execution_count": 314,
     "metadata": {},
     "output_type": "execute_result"
    }
   ],
   "source": [
    "rf_features = pd.DataFrame(rf_train_weather_scaled.feature_importances_,\n",
    "                                   index = X_train.columns,\n",
    "                                    columns=['importance']).sort_values('importance',\n",
    "                                                                        ascending=False)\n",
    "rf_features.head(10)"
   ]
  },
  {
   "cell_type": "markdown",
   "metadata": {},
   "source": [
    "Below we are runnning a random forest classifier with X as all the features in the dataframe excluding WNV Present and\n",
    "Mosquitos and y as Mosquitos. The number of estimators is 50, max features is 25, random state and warm start are both\n",
    "true"
   ]
  },
  {
   "cell_type": "code",
   "execution_count": 315,
   "metadata": {
    "collapsed": false
   },
   "outputs": [
    {
     "data": {
      "text/plain": [
       "RandomForestClassifier(bootstrap=True, class_weight=None, criterion='gini',\n",
       "            max_depth=None, max_features=25, max_leaf_nodes=None,\n",
       "            min_impurity_split=1e-07, min_samples_leaf=1,\n",
       "            min_samples_split=2, min_weight_fraction_leaf=0.0,\n",
       "            n_estimators=50, n_jobs=1, oob_score=False, random_state=True,\n",
       "            verbose=0, warm_start=True)"
      ]
     },
     "execution_count": 315,
     "metadata": {},
     "output_type": "execute_result"
    }
   ],
   "source": [
    "X = train_weather_scaled.drop(['WNV_Present', 'Mosquitos'],axis=1).astype(int)\n",
    "y = train_weather_scaled['Mosquitos'].astype(int)\n",
    "\n",
    "X_train, X_test, y_train, y_test = train_test_split(X, y,test_size=0.33)\n",
    "\n",
    "rf_train_weather = RandomForestClassifier(n_estimators=50, max_features=25, random_state=True,warm_start=True)\n",
    "\n",
    "rf_train_weather.fit(X_train,y_train)"
   ]
  },
  {
   "cell_type": "code",
   "execution_count": 316,
   "metadata": {
    "collapsed": false
   },
   "outputs": [
    {
     "name": "stdout",
     "output_type": "stream",
     "text": [
      "0.5\n"
     ]
    }
   ],
   "source": [
    "print accuracy_score(y_pred, y_test) "
   ]
  },
  {
   "cell_type": "code",
   "execution_count": 317,
   "metadata": {
    "collapsed": false
   },
   "outputs": [
    {
     "name": "stdout",
     "output_type": "stream",
     "text": [
      "[[0 2 0 0]\n",
      " [0 6 1 0]\n",
      " [0 0 0 0]\n",
      " [0 1 0 0]]\n"
     ]
    }
   ],
   "source": [
    "y_pred = rf_train_weather_scaled.predict(X_test)\n",
    "print confusion_matrix(y_test,y_pred) "
   ]
  },
  {
   "cell_type": "code",
   "execution_count": 318,
   "metadata": {
    "collapsed": false
   },
   "outputs": [
    {
     "name": "stdout",
     "output_type": "stream",
     "text": [
      "             precision    recall  f1-score   support\n",
      "\n",
      "         -1       0.00      0.00      0.00         2\n",
      "          0       0.67      0.86      0.75         7\n",
      "          1       0.00      0.00      0.00         0\n",
      "          2       0.00      0.00      0.00         1\n",
      "\n",
      "avg / total       0.47      0.60      0.53        10\n",
      "\n"
     ]
    }
   ],
   "source": [
    "print classification_report(y_test,y_pred)"
   ]
  },
  {
   "cell_type": "code",
   "execution_count": 319,
   "metadata": {
    "collapsed": false
   },
   "outputs": [
    {
     "data": {
      "text/html": [
       "<div>\n",
       "<table border=\"1\" class=\"dataframe\">\n",
       "  <thead>\n",
       "    <tr style=\"text-align: right;\">\n",
       "      <th></th>\n",
       "      <th>importance</th>\n",
       "    </tr>\n",
       "  </thead>\n",
       "  <tbody>\n",
       "    <tr>\n",
       "      <th>Rain</th>\n",
       "      <td>0.159804</td>\n",
       "    </tr>\n",
       "    <tr>\n",
       "      <th>mean_StnPressure</th>\n",
       "      <td>0.120058</td>\n",
       "    </tr>\n",
       "    <tr>\n",
       "      <th>Mist</th>\n",
       "      <td>0.119675</td>\n",
       "    </tr>\n",
       "    <tr>\n",
       "      <th>mean_Depart</th>\n",
       "      <td>0.118851</td>\n",
       "    </tr>\n",
       "    <tr>\n",
       "      <th>mean_ResultDir</th>\n",
       "      <td>0.083770</td>\n",
       "    </tr>\n",
       "    <tr>\n",
       "      <th>mean_SeaLevel</th>\n",
       "      <td>0.067616</td>\n",
       "    </tr>\n",
       "    <tr>\n",
       "      <th>Thunder_Storms</th>\n",
       "      <td>0.061503</td>\n",
       "    </tr>\n",
       "    <tr>\n",
       "      <th>Haze</th>\n",
       "      <td>0.044815</td>\n",
       "    </tr>\n",
       "    <tr>\n",
       "      <th>mean_Tdiff</th>\n",
       "      <td>0.032552</td>\n",
       "    </tr>\n",
       "    <tr>\n",
       "      <th>mean_PrecipTotal</th>\n",
       "      <td>0.031742</td>\n",
       "    </tr>\n",
       "  </tbody>\n",
       "</table>\n",
       "</div>"
      ],
      "text/plain": [
       "                  importance\n",
       "Rain                0.159804\n",
       "mean_StnPressure    0.120058\n",
       "Mist                0.119675\n",
       "mean_Depart         0.118851\n",
       "mean_ResultDir      0.083770\n",
       "mean_SeaLevel       0.067616\n",
       "Thunder_Storms      0.061503\n",
       "Haze                0.044815\n",
       "mean_Tdiff          0.032552\n",
       "mean_PrecipTotal    0.031742"
      ]
     },
     "execution_count": 319,
     "metadata": {},
     "output_type": "execute_result"
    }
   ],
   "source": [
    "rf_features = pd.DataFrame(rf_train_weather_scaled.feature_importances_,\n",
    "                                   index = X_train.columns,\n",
    "                                    columns=['importance']).sort_values('importance',\n",
    "                                                                        ascending=False)\n",
    "rf_features.head(10)"
   ]
  },
  {
   "cell_type": "code",
   "execution_count": null,
   "metadata": {
    "collapsed": true
   },
   "outputs": [],
   "source": []
  },
  {
   "cell_type": "code",
   "execution_count": null,
   "metadata": {
    "collapsed": true
   },
   "outputs": [],
   "source": []
  },
  {
   "cell_type": "code",
   "execution_count": 220,
   "metadata": {
    "collapsed": false
   },
   "outputs": [
    {
     "data": {
      "text/plain": [
       "RandomForestRegressor(bootstrap=True, criterion='mse', max_depth=None,\n",
       "           max_features='auto', max_leaf_nodes=None,\n",
       "           min_impurity_split=1e-07, min_samples_leaf=1,\n",
       "           min_samples_split=2, min_weight_fraction_leaf=0.0,\n",
       "           n_estimators=50, n_jobs=1, oob_score=False, random_state=None,\n",
       "           verbose=0, warm_start=False)"
      ]
     },
     "execution_count": 220,
     "metadata": {},
     "output_type": "execute_result"
    }
   ],
   "source": [
    "X = train_weather_scaled.drop(['Mosquitos','WNV_Present'],axis=1)\n",
    "y = train_weather_scaled['Mosquitos']\n",
    "\n",
    "X_train, X_test, y_train, y_test = train_test_split(X, y,test_size=0.33)\n",
    "\n",
    "rfr_train_weather_scaled = RandomForestRegressor(n_estimators=50)\n",
    "\n",
    "rfr_train_weather_scaled.fit(X_train,y_train)"
   ]
  },
  {
   "cell_type": "code",
   "execution_count": 221,
   "metadata": {
    "collapsed": false
   },
   "outputs": [
    {
     "data": {
      "text/plain": [
       "0.44885996562517072"
      ]
     },
     "execution_count": 221,
     "metadata": {},
     "output_type": "execute_result"
    }
   ],
   "source": [
    "rfr_train_weather_scaled.score(X_test, y_test)\n"
   ]
  },
  {
   "cell_type": "code",
   "execution_count": 222,
   "metadata": {
    "collapsed": false
   },
   "outputs": [
    {
     "data": {
      "text/html": [
       "<div>\n",
       "<table border=\"1\" class=\"dataframe\">\n",
       "  <thead>\n",
       "    <tr style=\"text-align: right;\">\n",
       "      <th></th>\n",
       "      <th>importance</th>\n",
       "    </tr>\n",
       "  </thead>\n",
       "  <tbody>\n",
       "    <tr>\n",
       "      <th>mean_AvgSpeed</th>\n",
       "      <td>0.340686</td>\n",
       "    </tr>\n",
       "    <tr>\n",
       "      <th>mean_ResultSpeed</th>\n",
       "      <td>0.115399</td>\n",
       "    </tr>\n",
       "    <tr>\n",
       "      <th>mean_Depart</th>\n",
       "      <td>0.095538</td>\n",
       "    </tr>\n",
       "    <tr>\n",
       "      <th>mean_StnPressure</th>\n",
       "      <td>0.086354</td>\n",
       "    </tr>\n",
       "    <tr>\n",
       "      <th>mean_Tdiff</th>\n",
       "      <td>0.073732</td>\n",
       "    </tr>\n",
       "    <tr>\n",
       "      <th>mean_ResultDir</th>\n",
       "      <td>0.072718</td>\n",
       "    </tr>\n",
       "    <tr>\n",
       "      <th>mean_SeaLevel</th>\n",
       "      <td>0.055320</td>\n",
       "    </tr>\n",
       "    <tr>\n",
       "      <th>Rain</th>\n",
       "      <td>0.046537</td>\n",
       "    </tr>\n",
       "    <tr>\n",
       "      <th>mean_PrecipTotal</th>\n",
       "      <td>0.019560</td>\n",
       "    </tr>\n",
       "    <tr>\n",
       "      <th>Thunder_Storms</th>\n",
       "      <td>0.016954</td>\n",
       "    </tr>\n",
       "    <tr>\n",
       "      <th>Haze</th>\n",
       "      <td>0.015053</td>\n",
       "    </tr>\n",
       "    <tr>\n",
       "      <th>mean_Cool</th>\n",
       "      <td>0.012032</td>\n",
       "    </tr>\n",
       "    <tr>\n",
       "      <th>Drizzle</th>\n",
       "      <td>0.011676</td>\n",
       "    </tr>\n",
       "    <tr>\n",
       "      <th>Mist</th>\n",
       "      <td>0.011386</td>\n",
       "    </tr>\n",
       "    <tr>\n",
       "      <th>mean_DewPoint</th>\n",
       "      <td>0.006151</td>\n",
       "    </tr>\n",
       "  </tbody>\n",
       "</table>\n",
       "</div>"
      ],
      "text/plain": [
       "                  importance\n",
       "mean_AvgSpeed       0.340686\n",
       "mean_ResultSpeed    0.115399\n",
       "mean_Depart         0.095538\n",
       "mean_StnPressure    0.086354\n",
       "mean_Tdiff          0.073732\n",
       "mean_ResultDir      0.072718\n",
       "mean_SeaLevel       0.055320\n",
       "Rain                0.046537\n",
       "mean_PrecipTotal    0.019560\n",
       "Thunder_Storms      0.016954\n",
       "Haze                0.015053\n",
       "mean_Cool           0.012032\n",
       "Drizzle             0.011676\n",
       "Mist                0.011386\n",
       "mean_DewPoint       0.006151"
      ]
     },
     "execution_count": 222,
     "metadata": {},
     "output_type": "execute_result"
    }
   ],
   "source": [
    "rfr_features = pd.DataFrame(rfr_train_weather_scaled.feature_importances_,\n",
    "                                   index = X_train.columns,\n",
    "                                    columns=['importance']).sort_values('importance',\n",
    "                                                                        ascending=False)\n",
    "rfr_features.head(15)"
   ]
  },
  {
   "cell_type": "code",
   "execution_count": null,
   "metadata": {
    "collapsed": true
   },
   "outputs": [],
   "source": []
  },
  {
   "cell_type": "code",
   "execution_count": null,
   "metadata": {
    "collapsed": true
   },
   "outputs": [],
   "source": []
  },
  {
   "cell_type": "code",
   "execution_count": null,
   "metadata": {
    "collapsed": true
   },
   "outputs": [],
   "source": []
  },
  {
   "cell_type": "code",
   "execution_count": null,
   "metadata": {
    "collapsed": true
   },
   "outputs": [],
   "source": []
  },
  {
   "cell_type": "code",
   "execution_count": 263,
   "metadata": {
    "collapsed": false
   },
   "outputs": [
    {
     "data": {
      "text/plain": [
       "RandomForestRegressor(bootstrap=True, criterion='mse', max_depth=None,\n",
       "           max_features=28, max_leaf_nodes=None, min_impurity_split=1e-07,\n",
       "           min_samples_leaf=1, min_samples_split=2,\n",
       "           min_weight_fraction_leaf=0.0, n_estimators=50, n_jobs=1,\n",
       "           oob_score=False, random_state=True, verbose=0, warm_start=True)"
      ]
     },
     "execution_count": 263,
     "metadata": {},
     "output_type": "execute_result"
    }
   ],
   "source": [
    "X = train_weather_scaled.drop(['Mosquitos'],axis=1)\n",
    "y = train_weather_scaled['Mosquitos']\n",
    "\n",
    "X_train, X_test, y_train, y_test = train_test_split(X, y,test_size=0.33)\n",
    "\n",
    "rfr_train_weather_scaled = RandomForestRegressor(max_features=28,n_estimators=50, random_state=True, warm_start=True)\n",
    "\n",
    "rfr_train_weather_scaled.fit(X_train,y_train)"
   ]
  },
  {
   "cell_type": "code",
   "execution_count": 264,
   "metadata": {
    "collapsed": false
   },
   "outputs": [
    {
     "data": {
      "text/plain": [
       "0.66684095391135401"
      ]
     },
     "execution_count": 264,
     "metadata": {},
     "output_type": "execute_result"
    }
   ],
   "source": [
    "rfr_train_weather_scaled.score(X_test, y_test)\n"
   ]
  },
  {
   "cell_type": "code",
   "execution_count": null,
   "metadata": {
    "collapsed": true
   },
   "outputs": [],
   "source": []
  },
  {
   "cell_type": "code",
   "execution_count": 265,
   "metadata": {
    "collapsed": false
   },
   "outputs": [
    {
     "data": {
      "text/plain": [
       "RandomForestRegressor(bootstrap=True, criterion='mse', max_depth=None,\n",
       "           max_features=28, max_leaf_nodes=None, min_impurity_split=1e-07,\n",
       "           min_samples_leaf=1, min_samples_split=2,\n",
       "           min_weight_fraction_leaf=0.0, n_estimators=50, n_jobs=1,\n",
       "           oob_score=False, random_state=True, verbose=0, warm_start=True)"
      ]
     },
     "execution_count": 265,
     "metadata": {},
     "output_type": "execute_result"
    }
   ],
   "source": [
    "X = train_weather_scaled.drop(['WNV_Present'],axis=1)\n",
    "y = train_weather_scaled['WNV_Present']\n",
    "\n",
    "X_train, X_test, y_train, y_test = train_test_split(X, y,test_size=0.33)\n",
    "\n",
    "rfr_train_weather_scaled = RandomForestRegressor(max_features=28,n_estimators=50, random_state=True, warm_start=True)\n",
    "\n",
    "rfr_train_weather_scaled.fit(X_train,y_train)"
   ]
  },
  {
   "cell_type": "code",
   "execution_count": 266,
   "metadata": {
    "collapsed": false
   },
   "outputs": [
    {
     "data": {
      "text/plain": [
       "0.21776085031000902"
      ]
     },
     "execution_count": 266,
     "metadata": {},
     "output_type": "execute_result"
    }
   ],
   "source": [
    "rfr_train_weather_scaled.score(X_test, y_test)"
   ]
  },
  {
   "cell_type": "code",
   "execution_count": null,
   "metadata": {
    "collapsed": true
   },
   "outputs": [],
   "source": []
  }
 ],
 "metadata": {
  "kernelspec": {
   "display_name": "Python 2",
   "language": "python",
   "name": "python2"
  },
  "language_info": {
   "codemirror_mode": {
    "name": "ipython",
    "version": 2
   },
   "file_extension": ".py",
   "mimetype": "text/x-python",
   "name": "python",
   "nbconvert_exporter": "python",
   "pygments_lexer": "ipython2",
   "version": "2.7.13"
  }
 },
 "nbformat": 4,
 "nbformat_minor": 2
}
