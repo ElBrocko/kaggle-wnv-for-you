{
 "cells": [
  {
   "cell_type": "code",
   "execution_count": 1,
   "metadata": {
    "collapsed": false
   },
   "outputs": [],
   "source": [
    "import pandas as pd\n",
    "from sklearn.ensemble import RandomForestClassifier, RandomForestRegressor\n",
    "from sklearn.model_selection import train_test_split\n",
    "from sklearn.preprocessing import StandardScaler\n",
    "from sklearn.metrics import accuracy_score\n",
    "from sklearn.metrics import classification_report\n",
    "from sklearn.metrics import confusion_matrix\n",
    "\n",
    "\n",
    "train_weather = pd.read_csv('train_weather_week_lean.csv')"
   ]
  },
  {
   "cell_type": "code",
   "execution_count": 2,
   "metadata": {
    "collapsed": false
   },
   "outputs": [],
   "source": [
    "train_weather.drop(['Unnamed: 0', 'start date', 'Week_Number','mean_Tavg','Sunrise','Sunset'], axis=1, inplace=True)"
   ]
  },
  {
   "cell_type": "code",
   "execution_count": 3,
   "metadata": {
    "collapsed": false
   },
   "outputs": [
    {
     "data": {
      "text/plain": [
       "Index([u'Mosquitos', u'WNV_Present', u'mean_Tmax', u'mean_Tmin',\n",
       "       u'mean_Depart', u'mean_DewPoint', u'mean_WetBulb', u'mean_Heat',\n",
       "       u'mean_Cool', u'mean_PrecipTotal', u'mean_StnPressure',\n",
       "       u'mean_SeaLevel', u'mean_ResultSpeed', u'mean_ResultDir',\n",
       "       u'mean_AvgSpeed', u'mean_Tdiff', u'Thunder_Storms', u'Hail', u'Rain',\n",
       "       u'Drizzle', u'Snow', u'Fog', u'Mist', u'Haze', u'Fume', u'Squall',\n",
       "       u'Shallow', u'Patches', u'Vicinity'],\n",
       "      dtype='object')"
      ]
     },
     "execution_count": 3,
     "metadata": {},
     "output_type": "execute_result"
    }
   ],
   "source": [
    "train_weather.columns"
   ]
  },
  {
   "cell_type": "code",
   "execution_count": 4,
   "metadata": {
    "collapsed": false
   },
   "outputs": [
    {
     "data": {
      "text/html": [
       "<div>\n",
       "<table border=\"1\" class=\"dataframe\">\n",
       "  <thead>\n",
       "    <tr style=\"text-align: right;\">\n",
       "      <th></th>\n",
       "      <th>Mosquitos</th>\n",
       "      <th>WNV_Present</th>\n",
       "      <th>mean_Tmax</th>\n",
       "      <th>mean_Tmin</th>\n",
       "      <th>mean_Depart</th>\n",
       "      <th>mean_DewPoint</th>\n",
       "      <th>mean_WetBulb</th>\n",
       "      <th>mean_Heat</th>\n",
       "      <th>mean_Cool</th>\n",
       "      <th>mean_PrecipTotal</th>\n",
       "      <th>...</th>\n",
       "      <th>Drizzle</th>\n",
       "      <th>Snow</th>\n",
       "      <th>Fog</th>\n",
       "      <th>Mist</th>\n",
       "      <th>Haze</th>\n",
       "      <th>Fume</th>\n",
       "      <th>Squall</th>\n",
       "      <th>Shallow</th>\n",
       "      <th>Patches</th>\n",
       "      <th>Vicinity</th>\n",
       "    </tr>\n",
       "  </thead>\n",
       "  <tbody>\n",
       "    <tr>\n",
       "      <th>0</th>\n",
       "      <td>11</td>\n",
       "      <td>0</td>\n",
       "      <td>67.500000</td>\n",
       "      <td>54.166667</td>\n",
       "      <td>6.666667</td>\n",
       "      <td>47.500000</td>\n",
       "      <td>54.000000</td>\n",
       "      <td>4.333333</td>\n",
       "      <td>0.166667</td>\n",
       "      <td>0.226667</td>\n",
       "      <td>...</td>\n",
       "      <td>0.000000</td>\n",
       "      <td>0.0</td>\n",
       "      <td>0.000000</td>\n",
       "      <td>0.500000</td>\n",
       "      <td>0.000000</td>\n",
       "      <td>0.0</td>\n",
       "      <td>0.0</td>\n",
       "      <td>0.0</td>\n",
       "      <td>0.0</td>\n",
       "      <td>0.000000</td>\n",
       "    </tr>\n",
       "    <tr>\n",
       "      <th>1</th>\n",
       "      <td>710</td>\n",
       "      <td>6</td>\n",
       "      <td>66.071429</td>\n",
       "      <td>47.261905</td>\n",
       "      <td>1.833333</td>\n",
       "      <td>42.238095</td>\n",
       "      <td>49.535714</td>\n",
       "      <td>9.047619</td>\n",
       "      <td>0.630952</td>\n",
       "      <td>0.094702</td>\n",
       "      <td>...</td>\n",
       "      <td>0.035714</td>\n",
       "      <td>0.0</td>\n",
       "      <td>0.011905</td>\n",
       "      <td>0.261905</td>\n",
       "      <td>0.095238</td>\n",
       "      <td>0.0</td>\n",
       "      <td>0.0</td>\n",
       "      <td>0.0</td>\n",
       "      <td>0.0</td>\n",
       "      <td>0.011905</td>\n",
       "    </tr>\n",
       "    <tr>\n",
       "      <th>2</th>\n",
       "      <td>800</td>\n",
       "      <td>5</td>\n",
       "      <td>69.723214</td>\n",
       "      <td>49.053571</td>\n",
       "      <td>2.571429</td>\n",
       "      <td>44.428571</td>\n",
       "      <td>51.794643</td>\n",
       "      <td>6.598214</td>\n",
       "      <td>1.223214</td>\n",
       "      <td>0.162009</td>\n",
       "      <td>...</td>\n",
       "      <td>0.053571</td>\n",
       "      <td>0.0</td>\n",
       "      <td>0.035714</td>\n",
       "      <td>0.339286</td>\n",
       "      <td>0.133929</td>\n",
       "      <td>0.0</td>\n",
       "      <td>0.0</td>\n",
       "      <td>0.0</td>\n",
       "      <td>0.0</td>\n",
       "      <td>0.000000</td>\n",
       "    </tr>\n",
       "    <tr>\n",
       "      <th>3</th>\n",
       "      <td>656</td>\n",
       "      <td>9</td>\n",
       "      <td>70.928571</td>\n",
       "      <td>49.607143</td>\n",
       "      <td>1.053571</td>\n",
       "      <td>44.553571</td>\n",
       "      <td>52.366071</td>\n",
       "      <td>6.517857</td>\n",
       "      <td>2.053571</td>\n",
       "      <td>0.089643</td>\n",
       "      <td>...</td>\n",
       "      <td>0.071429</td>\n",
       "      <td>0.0</td>\n",
       "      <td>0.026786</td>\n",
       "      <td>0.312500</td>\n",
       "      <td>0.089286</td>\n",
       "      <td>0.0</td>\n",
       "      <td>0.0</td>\n",
       "      <td>0.0</td>\n",
       "      <td>0.0</td>\n",
       "      <td>0.017857</td>\n",
       "    </tr>\n",
       "    <tr>\n",
       "      <th>4</th>\n",
       "      <td>945</td>\n",
       "      <td>9</td>\n",
       "      <td>74.741071</td>\n",
       "      <td>54.321429</td>\n",
       "      <td>2.517857</td>\n",
       "      <td>48.294643</td>\n",
       "      <td>55.830357</td>\n",
       "      <td>4.187500</td>\n",
       "      <td>3.991071</td>\n",
       "      <td>0.156161</td>\n",
       "      <td>...</td>\n",
       "      <td>0.008929</td>\n",
       "      <td>0.0</td>\n",
       "      <td>0.017857</td>\n",
       "      <td>0.205357</td>\n",
       "      <td>0.053571</td>\n",
       "      <td>0.0</td>\n",
       "      <td>0.0</td>\n",
       "      <td>0.0</td>\n",
       "      <td>0.0</td>\n",
       "      <td>0.000000</td>\n",
       "    </tr>\n",
       "  </tbody>\n",
       "</table>\n",
       "<p>5 rows × 29 columns</p>\n",
       "</div>"
      ],
      "text/plain": [
       "   Mosquitos  WNV_Present  mean_Tmax  mean_Tmin  mean_Depart  mean_DewPoint  \\\n",
       "0         11            0  67.500000  54.166667     6.666667      47.500000   \n",
       "1        710            6  66.071429  47.261905     1.833333      42.238095   \n",
       "2        800            5  69.723214  49.053571     2.571429      44.428571   \n",
       "3        656            9  70.928571  49.607143     1.053571      44.553571   \n",
       "4        945            9  74.741071  54.321429     2.517857      48.294643   \n",
       "\n",
       "   mean_WetBulb  mean_Heat  mean_Cool  mean_PrecipTotal    ...      Drizzle  \\\n",
       "0     54.000000   4.333333   0.166667          0.226667    ...     0.000000   \n",
       "1     49.535714   9.047619   0.630952          0.094702    ...     0.035714   \n",
       "2     51.794643   6.598214   1.223214          0.162009    ...     0.053571   \n",
       "3     52.366071   6.517857   2.053571          0.089643    ...     0.071429   \n",
       "4     55.830357   4.187500   3.991071          0.156161    ...     0.008929   \n",
       "\n",
       "   Snow       Fog      Mist      Haze  Fume  Squall  Shallow  Patches  \\\n",
       "0   0.0  0.000000  0.500000  0.000000   0.0     0.0      0.0      0.0   \n",
       "1   0.0  0.011905  0.261905  0.095238   0.0     0.0      0.0      0.0   \n",
       "2   0.0  0.035714  0.339286  0.133929   0.0     0.0      0.0      0.0   \n",
       "3   0.0  0.026786  0.312500  0.089286   0.0     0.0      0.0      0.0   \n",
       "4   0.0  0.017857  0.205357  0.053571   0.0     0.0      0.0      0.0   \n",
       "\n",
       "   Vicinity  \n",
       "0  0.000000  \n",
       "1  0.011905  \n",
       "2  0.000000  \n",
       "3  0.017857  \n",
       "4  0.000000  \n",
       "\n",
       "[5 rows x 29 columns]"
      ]
     },
     "execution_count": 4,
     "metadata": {},
     "output_type": "execute_result"
    }
   ],
   "source": [
    "train_weather.head()"
   ]
  },
  {
   "cell_type": "markdown",
   "metadata": {},
   "source": [
    "Below we are running a random forest on X as all the columns except WNV Present and Mosquitos and y being WNV Present.\n",
    "The number of estimators is 50, the max features being considered is 25, random state is true, as is warm start"
   ]
  },
  {
   "cell_type": "code",
   "execution_count": 90,
   "metadata": {
    "collapsed": false
   },
   "outputs": [
    {
     "data": {
      "text/plain": [
       "RandomForestClassifier(bootstrap=True, class_weight=None, criterion='gini',\n",
       "            max_depth=None, max_features='auto', max_leaf_nodes=None,\n",
       "            min_impurity_split=1e-07, min_samples_leaf=1,\n",
       "            min_samples_split=2, min_weight_fraction_leaf=0.0,\n",
       "            n_estimators=20, n_jobs=1, oob_score=False, random_state=None,\n",
       "            verbose=0, warm_start=False)"
      ]
     },
     "execution_count": 90,
     "metadata": {},
     "output_type": "execute_result"
    }
   ],
   "source": [
    "X = train_weather.drop(['WNV_Present', 'Mosquitos'],axis=1)\n",
    "y = train_weather['WNV_Present']\n",
    "\n",
    "X_train, X_test, y_train, y_test = train_test_split(X, y,test_size=0.33)\n",
    "\n",
    "rf_train_weather = RandomForestClassifier(n_estimators=20)\n",
    "\n",
    "rf_train_weather.fit(X_train,y_train)"
   ]
  },
  {
   "cell_type": "code",
   "execution_count": 91,
   "metadata": {
    "collapsed": false
   },
   "outputs": [
    {
     "name": "stdout",
     "output_type": "stream",
     "text": [
      "[[1 0 0 0 0 0 0 0 0 0]\n",
      " [0 0 0 0 0 0 0 0 0 0]\n",
      " [0 0 1 1 0 0 0 0 0 0]\n",
      " [0 0 0 0 0 1 0 0 0 0]\n",
      " [0 0 0 1 0 0 0 0 0 0]\n",
      " [0 0 0 0 0 0 0 0 0 0]\n",
      " [0 0 0 0 0 0 1 0 0 0]\n",
      " [0 0 0 2 0 0 0 0 0 0]\n",
      " [0 0 0 1 0 0 0 0 0 0]\n",
      " [0 1 0 0 0 0 0 0 0 0]]\n"
     ]
    }
   ],
   "source": [
    "y_pred = rf_train_weather.predict(X_test)\n",
    "print confusion_matrix(y_test,y_pred) \n"
   ]
  },
  {
   "cell_type": "code",
   "execution_count": 92,
   "metadata": {
    "collapsed": false,
    "scrolled": true
   },
   "outputs": [
    {
     "name": "stdout",
     "output_type": "stream",
     "text": [
      "0.3\n"
     ]
    }
   ],
   "source": [
    "print accuracy_score(y_pred, y_test) "
   ]
  },
  {
   "cell_type": "code",
   "execution_count": 93,
   "metadata": {
    "collapsed": false,
    "scrolled": true
   },
   "outputs": [
    {
     "name": "stdout",
     "output_type": "stream",
     "text": [
      "             precision    recall  f1-score   support\n",
      "\n",
      "          0       1.00      1.00      1.00         1\n",
      "          3       0.00      0.00      0.00         0\n",
      "          5       1.00      0.50      0.67         2\n",
      "          6       0.00      0.00      0.00         1\n",
      "          7       0.00      0.00      0.00         1\n",
      "          8       0.00      0.00      0.00         0\n",
      "          9       1.00      1.00      1.00         1\n",
      "         10       0.00      0.00      0.00         2\n",
      "         12       0.00      0.00      0.00         1\n",
      "         21       0.00      0.00      0.00         1\n",
      "\n",
      "avg / total       0.40      0.30      0.33        10\n",
      "\n"
     ]
    }
   ],
   "source": [
    "print classification_report(y_test,y_pred)"
   ]
  },
  {
   "cell_type": "code",
   "execution_count": 94,
   "metadata": {
    "collapsed": false,
    "scrolled": true
   },
   "outputs": [
    {
     "data": {
      "text/html": [
       "<div>\n",
       "<table border=\"1\" class=\"dataframe\">\n",
       "  <thead>\n",
       "    <tr style=\"text-align: right;\">\n",
       "      <th></th>\n",
       "      <th>importance</th>\n",
       "    </tr>\n",
       "  </thead>\n",
       "  <tbody>\n",
       "    <tr>\n",
       "      <th>mean_StnPressure</th>\n",
       "      <td>0.095398</td>\n",
       "    </tr>\n",
       "    <tr>\n",
       "      <th>mean_SeaLevel</th>\n",
       "      <td>0.089327</td>\n",
       "    </tr>\n",
       "    <tr>\n",
       "      <th>Thunder_Storms</th>\n",
       "      <td>0.075632</td>\n",
       "    </tr>\n",
       "    <tr>\n",
       "      <th>mean_Cool</th>\n",
       "      <td>0.074072</td>\n",
       "    </tr>\n",
       "    <tr>\n",
       "      <th>Mist</th>\n",
       "      <td>0.071153</td>\n",
       "    </tr>\n",
       "    <tr>\n",
       "      <th>mean_Tmax</th>\n",
       "      <td>0.065085</td>\n",
       "    </tr>\n",
       "    <tr>\n",
       "      <th>Rain</th>\n",
       "      <td>0.053913</td>\n",
       "    </tr>\n",
       "    <tr>\n",
       "      <th>Drizzle</th>\n",
       "      <td>0.053206</td>\n",
       "    </tr>\n",
       "    <tr>\n",
       "      <th>Haze</th>\n",
       "      <td>0.047207</td>\n",
       "    </tr>\n",
       "    <tr>\n",
       "      <th>mean_PrecipTotal</th>\n",
       "      <td>0.043867</td>\n",
       "    </tr>\n",
       "  </tbody>\n",
       "</table>\n",
       "</div>"
      ],
      "text/plain": [
       "                  importance\n",
       "mean_StnPressure    0.095398\n",
       "mean_SeaLevel       0.089327\n",
       "Thunder_Storms      0.075632\n",
       "mean_Cool           0.074072\n",
       "Mist                0.071153\n",
       "mean_Tmax           0.065085\n",
       "Rain                0.053913\n",
       "Drizzle             0.053206\n",
       "Haze                0.047207\n",
       "mean_PrecipTotal    0.043867"
      ]
     },
     "execution_count": 94,
     "metadata": {},
     "output_type": "execute_result"
    }
   ],
   "source": [
    "rf_features = pd.DataFrame(rf_train_weather.feature_importances_,\n",
    "                                   index = X_train.columns,\n",
    "                                    columns=['importance']).sort_values('importance',\n",
    "                                                                        ascending=False)\n",
    "rf_features.head(10)"
   ]
  },
  {
   "cell_type": "code",
   "execution_count": null,
   "metadata": {
    "collapsed": true
   },
   "outputs": [],
   "source": []
  },
  {
   "cell_type": "markdown",
   "metadata": {},
   "source": [
    "Below we are runnning a random forest classifier with X as all the features in the dataframe excluding WNV Present and\n",
    "Mosquitos and y as Mosquitos. "
   ]
  },
  {
   "cell_type": "code",
   "execution_count": 101,
   "metadata": {
    "collapsed": false
   },
   "outputs": [
    {
     "data": {
      "text/plain": [
       "RandomForestClassifier(bootstrap=True, class_weight=None, criterion='gini',\n",
       "            max_depth=None, max_features='auto', max_leaf_nodes=None,\n",
       "            min_impurity_split=1e-07, min_samples_leaf=1,\n",
       "            min_samples_split=2, min_weight_fraction_leaf=0.0,\n",
       "            n_estimators=10, n_jobs=1, oob_score=False, random_state=None,\n",
       "            verbose=0, warm_start=False)"
      ]
     },
     "execution_count": 101,
     "metadata": {},
     "output_type": "execute_result"
    }
   ],
   "source": [
    "X = train_weather.drop(['WNV_Present', 'Mosquitos'],axis=1)\n",
    "y = train_weather['Mosquitos']\n",
    "\n",
    "X_train, X_test, y_train, y_test = train_test_split(X, y,test_size=0.33)\n",
    "\n",
    "rf_train_weather = RandomForestClassifier()\n",
    "\n",
    "rf_train_weather.fit(X_train,y_train)"
   ]
  },
  {
   "cell_type": "code",
   "execution_count": 102,
   "metadata": {
    "collapsed": false
   },
   "outputs": [
    {
     "name": "stdout",
     "output_type": "stream",
     "text": [
      "0.0\n"
     ]
    }
   ],
   "source": [
    "print accuracy_score(y_pred, y_test) "
   ]
  },
  {
   "cell_type": "code",
   "execution_count": 103,
   "metadata": {
    "collapsed": false
   },
   "outputs": [
    {
     "name": "stdout",
     "output_type": "stream",
     "text": [
      "[[0 0 0 0 0 0 0 0 0 0 1 0 0 0 0 0 0]\n",
      " [0 0 0 1 0 0 0 0 0 0 0 0 0 0 0 0 0]\n",
      " [0 0 0 0 1 0 0 0 0 0 0 0 0 0 0 0 0]\n",
      " [0 0 0 0 0 0 0 0 0 0 0 0 0 0 0 0 0]\n",
      " [0 0 0 0 0 0 0 0 0 0 0 0 0 0 0 0 0]\n",
      " [0 0 0 0 1 0 0 0 0 0 0 0 0 0 0 0 0]\n",
      " [0 0 0 0 0 0 0 0 0 0 0 0 0 1 0 0 0]\n",
      " [0 0 0 0 0 0 0 0 0 0 0 0 0 1 0 0 0]\n",
      " [0 0 0 0 0 0 0 0 0 1 0 0 0 0 0 0 0]\n",
      " [0 0 0 0 0 0 0 0 0 0 0 0 0 0 0 0 0]\n",
      " [0 0 0 0 0 0 0 0 0 0 0 0 0 0 0 0 0]\n",
      " [0 0 0 0 0 0 0 0 0 0 0 0 0 1 0 0 0]\n",
      " [0 0 0 0 0 0 0 0 0 0 0 0 0 0 0 0 0]\n",
      " [0 0 0 0 0 0 0 0 0 0 0 0 0 0 0 0 0]\n",
      " [0 0 0 0 0 0 0 0 0 0 0 0 1 0 0 0 0]\n",
      " [0 0 0 0 0 0 0 0 0 0 0 0 0 0 0 0 1]\n",
      " [0 0 0 0 0 0 0 0 0 0 0 0 0 0 0 0 0]]\n"
     ]
    }
   ],
   "source": [
    "y_pred = rf_train_weather.predict(X_test)\n",
    "print confusion_matrix(y_test,y_pred) "
   ]
  },
  {
   "cell_type": "code",
   "execution_count": 104,
   "metadata": {
    "collapsed": false
   },
   "outputs": [
    {
     "name": "stdout",
     "output_type": "stream",
     "text": [
      "             precision    recall  f1-score   support\n",
      "\n",
      "        355       0.00      0.00      0.00         1\n",
      "        656       0.00      0.00      0.00         1\n",
      "        699       0.00      0.00      0.00         1\n",
      "        710       0.00      0.00      0.00         0\n",
      "        923       0.00      0.00      0.00         0\n",
      "       1303       0.00      0.00      0.00         1\n",
      "       1545       0.00      0.00      0.00         1\n",
      "       1758       0.00      0.00      0.00         1\n",
      "       1813       0.00      0.00      0.00         1\n",
      "       1870       0.00      0.00      0.00         0\n",
      "       1944       0.00      0.00      0.00         0\n",
      "       2154       0.00      0.00      0.00         1\n",
      "       2420       0.00      0.00      0.00         0\n",
      "       2468       0.00      0.00      0.00         0\n",
      "       2478       0.00      0.00      0.00         1\n",
      "       2606       0.00      0.00      0.00         1\n",
      "       2960       0.00      0.00      0.00         0\n",
      "\n",
      "avg / total       0.00      0.00      0.00        10\n",
      "\n"
     ]
    }
   ],
   "source": [
    "print classification_report(y_test,y_pred)"
   ]
  },
  {
   "cell_type": "code",
   "execution_count": 105,
   "metadata": {
    "collapsed": false
   },
   "outputs": [
    {
     "data": {
      "text/html": [
       "<div>\n",
       "<table border=\"1\" class=\"dataframe\">\n",
       "  <thead>\n",
       "    <tr style=\"text-align: right;\">\n",
       "      <th></th>\n",
       "      <th>importance</th>\n",
       "    </tr>\n",
       "  </thead>\n",
       "  <tbody>\n",
       "    <tr>\n",
       "      <th>mean_ResultSpeed</th>\n",
       "      <td>0.087684</td>\n",
       "    </tr>\n",
       "    <tr>\n",
       "      <th>Thunder_Storms</th>\n",
       "      <td>0.067614</td>\n",
       "    </tr>\n",
       "    <tr>\n",
       "      <th>mean_WetBulb</th>\n",
       "      <td>0.066857</td>\n",
       "    </tr>\n",
       "    <tr>\n",
       "      <th>mean_SeaLevel</th>\n",
       "      <td>0.065621</td>\n",
       "    </tr>\n",
       "    <tr>\n",
       "      <th>Fog</th>\n",
       "      <td>0.053009</td>\n",
       "    </tr>\n",
       "    <tr>\n",
       "      <th>mean_Tmax</th>\n",
       "      <td>0.046850</td>\n",
       "    </tr>\n",
       "    <tr>\n",
       "      <th>mean_Cool</th>\n",
       "      <td>0.046310</td>\n",
       "    </tr>\n",
       "    <tr>\n",
       "      <th>mean_Tdiff</th>\n",
       "      <td>0.045701</td>\n",
       "    </tr>\n",
       "    <tr>\n",
       "      <th>mean_Tmin</th>\n",
       "      <td>0.045104</td>\n",
       "    </tr>\n",
       "    <tr>\n",
       "      <th>Drizzle</th>\n",
       "      <td>0.044563</td>\n",
       "    </tr>\n",
       "  </tbody>\n",
       "</table>\n",
       "</div>"
      ],
      "text/plain": [
       "                  importance\n",
       "mean_ResultSpeed    0.087684\n",
       "Thunder_Storms      0.067614\n",
       "mean_WetBulb        0.066857\n",
       "mean_SeaLevel       0.065621\n",
       "Fog                 0.053009\n",
       "mean_Tmax           0.046850\n",
       "mean_Cool           0.046310\n",
       "mean_Tdiff          0.045701\n",
       "mean_Tmin           0.045104\n",
       "Drizzle             0.044563"
      ]
     },
     "execution_count": 105,
     "metadata": {},
     "output_type": "execute_result"
    }
   ],
   "source": [
    "rf_features = pd.DataFrame(rf_train_weather.feature_importances_,\n",
    "                                   index = X_train.columns,\n",
    "                                    columns=['importance']).sort_values('importance',\n",
    "                                                                        ascending=False)\n",
    "rf_features.head(10)"
   ]
  },
  {
   "cell_type": "code",
   "execution_count": null,
   "metadata": {
    "collapsed": true
   },
   "outputs": [],
   "source": []
  },
  {
   "cell_type": "code",
   "execution_count": 108,
   "metadata": {
    "collapsed": false
   },
   "outputs": [
    {
     "data": {
      "text/plain": [
       "RandomForestRegressor(bootstrap=True, criterion='mse', max_depth=None,\n",
       "           max_features='auto', max_leaf_nodes=None,\n",
       "           min_impurity_split=1e-07, min_samples_leaf=1,\n",
       "           min_samples_split=2, min_weight_fraction_leaf=0.0,\n",
       "           n_estimators=50, n_jobs=1, oob_score=False, random_state=None,\n",
       "           verbose=0, warm_start=False)"
      ]
     },
     "execution_count": 108,
     "metadata": {},
     "output_type": "execute_result"
    }
   ],
   "source": [
    "X = train_weather.drop(['Mosquitos','WNV_Present'],axis=1)\n",
    "y = train_weather['Mosquitos']\n",
    "\n",
    "X_train, X_test, y_train, y_test = train_test_split(X, y,test_size=0.33)\n",
    "\n",
    "rfr_train_weather= RandomForestRegressor(n_estimators=50)\n",
    "\n",
    "rfr_train_weather.fit(X_train,y_train)"
   ]
  },
  {
   "cell_type": "code",
   "execution_count": 109,
   "metadata": {
    "collapsed": false
   },
   "outputs": [
    {
     "data": {
      "text/plain": [
       "0.55248831274060883"
      ]
     },
     "execution_count": 109,
     "metadata": {},
     "output_type": "execute_result"
    }
   ],
   "source": [
    "rfr_train_weather.score(X_test, y_test)\n"
   ]
  },
  {
   "cell_type": "code",
   "execution_count": 110,
   "metadata": {
    "collapsed": false
   },
   "outputs": [
    {
     "data": {
      "text/html": [
       "<div>\n",
       "<table border=\"1\" class=\"dataframe\">\n",
       "  <thead>\n",
       "    <tr style=\"text-align: right;\">\n",
       "      <th></th>\n",
       "      <th>importance</th>\n",
       "    </tr>\n",
       "  </thead>\n",
       "  <tbody>\n",
       "    <tr>\n",
       "      <th>mean_AvgSpeed</th>\n",
       "      <td>0.343654</td>\n",
       "    </tr>\n",
       "    <tr>\n",
       "      <th>mean_ResultSpeed</th>\n",
       "      <td>0.141354</td>\n",
       "    </tr>\n",
       "    <tr>\n",
       "      <th>mean_StnPressure</th>\n",
       "      <td>0.084518</td>\n",
       "    </tr>\n",
       "    <tr>\n",
       "      <th>Rain</th>\n",
       "      <td>0.070337</td>\n",
       "    </tr>\n",
       "    <tr>\n",
       "      <th>mean_ResultDir</th>\n",
       "      <td>0.061133</td>\n",
       "    </tr>\n",
       "    <tr>\n",
       "      <th>mean_Tdiff</th>\n",
       "      <td>0.057621</td>\n",
       "    </tr>\n",
       "    <tr>\n",
       "      <th>mean_Depart</th>\n",
       "      <td>0.040240</td>\n",
       "    </tr>\n",
       "    <tr>\n",
       "      <th>Haze</th>\n",
       "      <td>0.038824</td>\n",
       "    </tr>\n",
       "    <tr>\n",
       "      <th>Mist</th>\n",
       "      <td>0.024759</td>\n",
       "    </tr>\n",
       "    <tr>\n",
       "      <th>mean_Heat</th>\n",
       "      <td>0.020872</td>\n",
       "    </tr>\n",
       "  </tbody>\n",
       "</table>\n",
       "</div>"
      ],
      "text/plain": [
       "                  importance\n",
       "mean_AvgSpeed       0.343654\n",
       "mean_ResultSpeed    0.141354\n",
       "mean_StnPressure    0.084518\n",
       "Rain                0.070337\n",
       "mean_ResultDir      0.061133\n",
       "mean_Tdiff          0.057621\n",
       "mean_Depart         0.040240\n",
       "Haze                0.038824\n",
       "Mist                0.024759\n",
       "mean_Heat           0.020872"
      ]
     },
     "execution_count": 110,
     "metadata": {},
     "output_type": "execute_result"
    }
   ],
   "source": [
    "rfr_features = pd.DataFrame(rfr_train_weather.feature_importances_,\n",
    "                                   index = X_train.columns,\n",
    "                                    columns=['importance']).sort_values('importance',\n",
    "                                                                        ascending=False)\n",
    "rfr_features.head(10)"
   ]
  },
  {
   "cell_type": "code",
   "execution_count": null,
   "metadata": {
    "collapsed": true
   },
   "outputs": [],
   "source": []
  },
  {
   "cell_type": "code",
   "execution_count": 66,
   "metadata": {
    "collapsed": false
   },
   "outputs": [
    {
     "data": {
      "text/plain": [
       "RandomForestRegressor(bootstrap=True, criterion='mse', max_depth=None,\n",
       "           max_features=28, max_leaf_nodes=None, min_impurity_split=1e-07,\n",
       "           min_samples_leaf=1, min_samples_split=2,\n",
       "           min_weight_fraction_leaf=0.0, n_estimators=10, n_jobs=1,\n",
       "           oob_score=False, random_state=None, verbose=0, warm_start=False)"
      ]
     },
     "execution_count": 66,
     "metadata": {},
     "output_type": "execute_result"
    }
   ],
   "source": [
    "X = train_weather.drop(['Mosquitos'],axis=1)\n",
    "y = train_weather['Mosquitos']\n",
    "\n",
    "X_train, X_test, y_train, y_test = train_test_split(X, y,test_size=0.33)\n",
    "\n",
    "rfr_train_weather = RandomForestRegressor(max_features=28,n_estimators=10)\n",
    "\n",
    "rfr_train_weather.fit(X_train,y_train)"
   ]
  },
  {
   "cell_type": "code",
   "execution_count": 65,
   "metadata": {
    "collapsed": false
   },
   "outputs": [
    {
     "data": {
      "text/plain": [
       "0.21146905462471766"
      ]
     },
     "execution_count": 65,
     "metadata": {},
     "output_type": "execute_result"
    }
   ],
   "source": [
    "rfr_train_weather.score(X_test, y_test)\n"
   ]
  },
  {
   "cell_type": "code",
   "execution_count": null,
   "metadata": {
    "collapsed": true
   },
   "outputs": [],
   "source": []
  },
  {
   "cell_type": "code",
   "execution_count": 69,
   "metadata": {
    "collapsed": false
   },
   "outputs": [
    {
     "data": {
      "text/plain": [
       "RandomForestRegressor(bootstrap=True, criterion='mse', max_depth=None,\n",
       "           max_features='auto', max_leaf_nodes=None,\n",
       "           min_impurity_split=1e-07, min_samples_leaf=1,\n",
       "           min_samples_split=2, min_weight_fraction_leaf=0.0,\n",
       "           n_estimators=10, n_jobs=1, oob_score=False, random_state=None,\n",
       "           verbose=0, warm_start=False)"
      ]
     },
     "execution_count": 69,
     "metadata": {},
     "output_type": "execute_result"
    }
   ],
   "source": [
    "X = train_weather.drop(['WNV_Present'],axis=1)\n",
    "y = train_weather['WNV_Present']\n",
    "\n",
    "X_train, X_test, y_train, y_test = train_test_split(X, y,test_size=0.33)\n",
    "\n",
    "rfr_train_weather = RandomForestRegressor()\n",
    "\n",
    "rfr_train_weather.fit(X_train,y_train)"
   ]
  },
  {
   "cell_type": "code",
   "execution_count": 70,
   "metadata": {
    "collapsed": false
   },
   "outputs": [
    {
     "data": {
      "text/plain": [
       "0.03529243937232529"
      ]
     },
     "execution_count": 70,
     "metadata": {},
     "output_type": "execute_result"
    }
   ],
   "source": [
    "rfr_train_weather.score(X_test, y_test)"
   ]
  },
  {
   "cell_type": "code",
   "execution_count": null,
   "metadata": {
    "collapsed": true
   },
   "outputs": [],
   "source": []
  }
 ],
 "metadata": {
  "kernelspec": {
   "display_name": "Python 2",
   "language": "python",
   "name": "python2"
  },
  "language_info": {
   "codemirror_mode": {
    "name": "ipython",
    "version": 2
   },
   "file_extension": ".py",
   "mimetype": "text/x-python",
   "name": "python",
   "nbconvert_exporter": "python",
   "pygments_lexer": "ipython2",
   "version": "2.7.13"
  }
 },
 "nbformat": 4,
 "nbformat_minor": 2
}
